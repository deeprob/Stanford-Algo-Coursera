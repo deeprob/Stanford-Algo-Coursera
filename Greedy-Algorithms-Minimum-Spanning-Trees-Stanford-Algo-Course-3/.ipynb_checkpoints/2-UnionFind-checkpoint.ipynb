{
 "cells": [
  {
   "cell_type": "code",
   "execution_count": 61,
   "metadata": {},
   "outputs": [],
   "source": [
    "class UnionFind:\n",
    "    def __init__(self,nodes):\n",
    "        self.parent = {n:(n,0) for n in nodes}\n",
    "        \n",
    "    def find(self,u):\n",
    "        if self.parent[u][0] == u:\n",
    "            return u\n",
    "        self.parent[u] = self.find(self.parent[u][0]),self.parent[u][1]\n",
    "        return self.parent[u][0]\n",
    "    \n",
    "    def union(self,u,v):\n",
    "        u_parent = self.find(u)\n",
    "        v_parent = self.find(v)\n",
    "        if self.parent[u_parent][1]>self.parent[v_parent][1]:\n",
    "            self.parent[v_parent] = u_parent,self.parent[v_parent][1]\n",
    "        elif self.parent[u_parent][1]<self.parent[v_parent][1]:\n",
    "            self.parent[u_parent] = v_parent,self.parent[u_parent][1]\n",
    "        else:\n",
    "            self.parent[u_parent] = v_parent,self.parent[u_parent][1]\n",
    "            self.parent[v_parent] = v_parent,self.parent[v_parent][1] + 1\n",
    "        return\n",
    "        "
   ]
  },
  {
   "cell_type": "code",
   "execution_count": 62,
   "metadata": {},
   "outputs": [],
   "source": [
    "UF = UnionFind([1,2,3,4,5,6,7])"
   ]
  },
  {
   "cell_type": "code",
   "execution_count": 63,
   "metadata": {},
   "outputs": [],
   "source": [
    "UF.union(2,5)"
   ]
  },
  {
   "cell_type": "code",
   "execution_count": 64,
   "metadata": {},
   "outputs": [
    {
     "data": {
      "text/plain": [
       "{1: (1, 0), 2: (5, 0), 3: (3, 0), 4: (4, 0), 5: (5, 1), 6: (6, 0), 7: (7, 0)}"
      ]
     },
     "execution_count": 64,
     "metadata": {},
     "output_type": "execute_result"
    }
   ],
   "source": [
    "UF.parent"
   ]
  },
  {
   "cell_type": "code",
   "execution_count": 65,
   "metadata": {},
   "outputs": [],
   "source": [
    "UF.union(3,5)"
   ]
  },
  {
   "cell_type": "code",
   "execution_count": 66,
   "metadata": {},
   "outputs": [
    {
     "data": {
      "text/plain": [
       "{1: (1, 0), 2: (5, 0), 3: (5, 0), 4: (4, 0), 5: (5, 1), 6: (6, 0), 7: (7, 0)}"
      ]
     },
     "execution_count": 66,
     "metadata": {},
     "output_type": "execute_result"
    }
   ],
   "source": [
    "UF.parent"
   ]
  },
  {
   "cell_type": "code",
   "execution_count": 67,
   "metadata": {},
   "outputs": [],
   "source": [
    "UF.union(6,7)"
   ]
  },
  {
   "cell_type": "code",
   "execution_count": 68,
   "metadata": {},
   "outputs": [
    {
     "data": {
      "text/plain": [
       "{1: (1, 0), 2: (5, 0), 3: (5, 0), 4: (4, 0), 5: (5, 1), 6: (7, 0), 7: (7, 1)}"
      ]
     },
     "execution_count": 68,
     "metadata": {},
     "output_type": "execute_result"
    }
   ],
   "source": [
    "UF.parent"
   ]
  },
  {
   "cell_type": "code",
   "execution_count": 69,
   "metadata": {},
   "outputs": [],
   "source": [
    "UF.union(5,7)"
   ]
  },
  {
   "cell_type": "code",
   "execution_count": 70,
   "metadata": {},
   "outputs": [
    {
     "data": {
      "text/plain": [
       "{1: (1, 0), 2: (5, 0), 3: (5, 0), 4: (4, 0), 5: (7, 1), 6: (7, 0), 7: (7, 2)}"
      ]
     },
     "execution_count": 70,
     "metadata": {},
     "output_type": "execute_result"
    }
   ],
   "source": [
    "UF.parent"
   ]
  },
  {
   "cell_type": "code",
   "execution_count": 71,
   "metadata": {},
   "outputs": [],
   "source": [
    "UF.union(4,6)"
   ]
  },
  {
   "cell_type": "code",
   "execution_count": 72,
   "metadata": {},
   "outputs": [
    {
     "data": {
      "text/plain": [
       "{1: (1, 0), 2: (5, 0), 3: (5, 0), 4: (7, 0), 5: (7, 1), 6: (7, 0), 7: (7, 2)}"
      ]
     },
     "execution_count": 72,
     "metadata": {},
     "output_type": "execute_result"
    }
   ],
   "source": [
    "UF.parent"
   ]
  },
  {
   "cell_type": "code",
   "execution_count": 73,
   "metadata": {},
   "outputs": [],
   "source": [
    "UF.union(1,4)"
   ]
  },
  {
   "cell_type": "code",
   "execution_count": 74,
   "metadata": {},
   "outputs": [
    {
     "data": {
      "text/plain": [
       "{1: (7, 0), 2: (5, 0), 3: (5, 0), 4: (7, 0), 5: (7, 1), 6: (7, 0), 7: (7, 2)}"
      ]
     },
     "execution_count": 74,
     "metadata": {},
     "output_type": "execute_result"
    }
   ],
   "source": [
    "UF.parent"
   ]
  },
  {
   "cell_type": "code",
   "execution_count": 75,
   "metadata": {},
   "outputs": [
    {
     "data": {
      "text/plain": [
       "7"
      ]
     },
     "execution_count": 75,
     "metadata": {},
     "output_type": "execute_result"
    }
   ],
   "source": [
    "UF.find(2)"
   ]
  },
  {
   "cell_type": "code",
   "execution_count": 76,
   "metadata": {},
   "outputs": [
    {
     "data": {
      "text/plain": [
       "{1: (7, 0), 2: (7, 0), 3: (5, 0), 4: (7, 0), 5: (7, 1), 6: (7, 0), 7: (7, 2)}"
      ]
     },
     "execution_count": 76,
     "metadata": {},
     "output_type": "execute_result"
    }
   ],
   "source": [
    "UF.parent"
   ]
  }
 ],
 "metadata": {
  "kernelspec": {
   "display_name": "Python 3",
   "language": "python",
   "name": "python3"
  },
  "language_info": {
   "codemirror_mode": {
    "name": "ipython",
    "version": 3
   },
   "file_extension": ".py",
   "mimetype": "text/x-python",
   "name": "python",
   "nbconvert_exporter": "python",
   "pygments_lexer": "ipython3",
   "version": "3.7.4"
  }
 },
 "nbformat": 4,
 "nbformat_minor": 2
}
