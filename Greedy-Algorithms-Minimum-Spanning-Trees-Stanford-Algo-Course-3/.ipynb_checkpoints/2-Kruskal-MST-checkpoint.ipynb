{
 "cells": [
  {
   "cell_type": "code",
   "execution_count": 9,
   "metadata": {},
   "outputs": [],
   "source": [
    "from collections import deque"
   ]
  },
  {
   "cell_type": "code",
   "execution_count": 10,
   "metadata": {},
   "outputs": [],
   "source": [
    "G = {'a':[('b',1),('c',4),('d',3)],\n",
    "     'b':[('a',1),('d',2)],\n",
    "     'c':[('a',4),('d',5)],\n",
    "     'd':[('a',3),('c',5),('b',2)]}"
   ]
  },
  {
   "cell_type": "code",
   "execution_count": 121,
   "metadata": {},
   "outputs": [],
   "source": [
    "def checkCycles(T,u,v):\n",
    "    #define graph\n",
    "    if T:\n",
    "        G = {}\n",
    "        for w,p,c in T:\n",
    "            try:\n",
    "                G[p].append(c)\n",
    "                \n",
    "            except:\n",
    "                G[p] = [c]\n",
    "                \n",
    "            \n",
    "            try:\n",
    "                G[c].append(p)\n",
    "            except:\n",
    "                G[c] = [p]\n",
    "        \n",
    "        #BFS implementation\n",
    "        explored = set([u])\n",
    "        q = deque()\n",
    "        q.append(u)\n",
    "\n",
    "        while q:\n",
    "            u_ = q.popleft()\n",
    "            if u_ not in G:\n",
    "                return False\n",
    "            else:\n",
    "                for v_ in G[u_]:\n",
    "                    if v_==v:\n",
    "                        return True\n",
    "                    else:\n",
    "                        if v_ not in explored:\n",
    "                            explored.add(v_)\n",
    "                            q.append(v_)\n",
    "\n",
    "        return False\n",
    "\n",
    "    else:\n",
    "        return False\n",
    "            "
   ]
  },
  {
   "cell_type": "code",
   "execution_count": 122,
   "metadata": {},
   "outputs": [],
   "source": [
    "def naive(G,s):\n",
    "    edges = sorted([(w,u,v) for u in G.keys() for v,w in G[u]])\n",
    "    T = []\n",
    "    for e in edges:\n",
    "        cycle = checkCycles(T,e[1],e[2])\n",
    "        if not cycle:\n",
    "            T.append(e)\n",
    "        \n",
    "    return T"
   ]
  },
  {
   "cell_type": "code",
   "execution_count": 123,
   "metadata": {},
   "outputs": [
    {
     "data": {
      "text/plain": [
       "[(1, 'a', 'b'), (2, 'b', 'd'), (4, 'a', 'c')]"
      ]
     },
     "execution_count": 123,
     "metadata": {},
     "output_type": "execute_result"
    }
   ],
   "source": [
    "naive(G,'b')"
   ]
  },
  {
   "cell_type": "code",
   "execution_count": 148,
   "metadata": {},
   "outputs": [],
   "source": [
    "class UnionFind:\n",
    "    def __init__(self,nodes):\n",
    "        self.parent = {n:(n,0) for n in nodes}\n",
    "        \n",
    "    def find(self,u):\n",
    "        if self.parent[u][0] == u:\n",
    "            return u\n",
    "        return self.find(self.parent[u][0])\n",
    "    \n",
    "    def union(self,u,v):\n",
    "        u_parent = self.find(u)\n",
    "        v_parent = self.find(v)\n",
    "        if self.parent[u_parent][1]>=self.parent[v_parent][1]:\n",
    "            self.parent[u_parent] = u_parent,self.parent[u_parent][1]+self.parent[v_parent][1]+1\n",
    "            self.parent[v_parent] = u_parent,0\n",
    "        else:\n",
    "            self.parent[v_parent] = v_parent,self.parent[u_parent][1]+self.parent[v_parent][1]+1\n",
    "            self.parent[u_parent] = v_parent,0\n",
    "        return\n",
    "        "
   ]
  },
  {
   "cell_type": "code",
   "execution_count": 149,
   "metadata": {},
   "outputs": [],
   "source": [
    "def fast(G,s):\n",
    "    edges = sorted([(w,u,v) for u in G.keys() for v,w in G[u]])\n",
    "    T = []\n",
    "    UF = UnionFind(G.keys())\n",
    "    for e in edges:\n",
    "        if UF.find(e[1])!=UF.find(e[2]):\n",
    "            T.append(e)\n",
    "            UF.union(e[1],e[2])\n",
    "                   \n",
    "    return T"
   ]
  },
  {
   "cell_type": "code",
   "execution_count": 150,
   "metadata": {},
   "outputs": [
    {
     "data": {
      "text/plain": [
       "[(1, 'a', 'b'), (2, 'b', 'd'), (4, 'a', 'c')]"
      ]
     },
     "execution_count": 150,
     "metadata": {},
     "output_type": "execute_result"
    }
   ],
   "source": [
    "fast(G,'b')"
   ]
  },
  {
   "cell_type": "code",
   "execution_count": 151,
   "metadata": {},
   "outputs": [],
   "source": [
    "# example from geeks for geeks\n",
    "G_ = {0:[(1,4),(7,8)],\n",
    "      1:[(0,4),(2,8),(7,11)],\n",
    "      2:[(1,8),(3,7),(5,4),(8,2)],\n",
    "      3:[(2,7),(4,9),(5,14)],\n",
    "      4:[(3,9),(5,10)],\n",
    "      5:[(4,10),(3,14),(2,4),(6,2)],\n",
    "      6:[(5,2),(8,6),(7,1)],\n",
    "      7:[(8,7),(6,1),(0,8),(1,11)],\n",
    "      8:[(6,6),(2,2),(7,7)]}"
   ]
  },
  {
   "cell_type": "code",
   "execution_count": 152,
   "metadata": {},
   "outputs": [
    {
     "data": {
      "text/plain": [
       "[(1, 6, 7),\n",
       " (2, 2, 8),\n",
       " (2, 5, 6),\n",
       " (4, 0, 1),\n",
       " (4, 2, 5),\n",
       " (7, 2, 3),\n",
       " (8, 0, 7),\n",
       " (9, 3, 4)]"
      ]
     },
     "execution_count": 152,
     "metadata": {},
     "output_type": "execute_result"
    }
   ],
   "source": [
    "naive(G_,0)"
   ]
  },
  {
   "cell_type": "code",
   "execution_count": 153,
   "metadata": {
    "scrolled": false
   },
   "outputs": [
    {
     "data": {
      "text/plain": [
       "[(1, 6, 7),\n",
       " (2, 2, 8),\n",
       " (2, 5, 6),\n",
       " (4, 0, 1),\n",
       " (4, 2, 5),\n",
       " (7, 2, 3),\n",
       " (8, 0, 7),\n",
       " (9, 3, 4)]"
      ]
     },
     "execution_count": 153,
     "metadata": {},
     "output_type": "execute_result"
    }
   ],
   "source": [
    "fast(G_,0)"
   ]
  }
 ],
 "metadata": {
  "kernelspec": {
   "display_name": "Python 3",
   "language": "python",
   "name": "python3"
  },
  "language_info": {
   "codemirror_mode": {
    "name": "ipython",
    "version": 3
   },
   "file_extension": ".py",
   "mimetype": "text/x-python",
   "name": "python",
   "nbconvert_exporter": "python",
   "pygments_lexer": "ipython3",
   "version": "3.7.4"
  }
 },
 "nbformat": 4,
 "nbformat_minor": 2
}
