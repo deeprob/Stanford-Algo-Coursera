{
 "cells": [
  {
   "cell_type": "code",
   "execution_count": 51,
   "metadata": {},
   "outputs": [],
   "source": [
    "path = [1,4,5,4]\n",
    "\n",
    "def get_wis(p):\n",
    "    dp = [-1]*len(p)\n",
    "    \n",
    "    for i,pi in enumerate(p):\n",
    "        if i==0 or i==1:\n",
    "            dp[i] = pi\n",
    "        \n",
    "        else:\n",
    "            dp[i] = max(pi+dp[i-2],dp[i-1])\n",
    "                \n",
    "    \n",
    "    pp = []\n",
    "    i = len(p)-1\n",
    "    while i>1:\n",
    "        if dp[i]==dp[i-2]+p[i]:\n",
    "            pp.append(p[i])\n",
    "            i-=2\n",
    "        else:\n",
    "            i-=1\n",
    "            \n",
    "    return dp[-1],pp+[p[i]]\n",
    "            "
   ]
  },
  {
   "cell_type": "code",
   "execution_count": 52,
   "metadata": {},
   "outputs": [
    {
     "data": {
      "text/plain": [
       "(8, [4, 4])"
      ]
     },
     "execution_count": 52,
     "metadata": {},
     "output_type": "execute_result"
    }
   ],
   "source": [
    "get_wis(path)"
   ]
  },
  {
   "cell_type": "code",
   "execution_count": 17,
   "metadata": {},
   "outputs": [],
   "source": [
    "def get_wis_m(p):\n",
    "    dp = [(-1,None)]*len(p)\n",
    "    \n",
    "    for i,pi in enumerate(p):\n",
    "        if i==0 or i==1:\n",
    "            dp[i] = (pi,[pi])\n",
    "        \n",
    "        else:\n",
    "            if pi+dp[i-2][0]>=dp[i-1][0]:\n",
    "                dp[i] = (pi+dp[i-2][0],[pi]+dp[i-2][1])\n",
    "            else:\n",
    "                dp[i] = dp[i-1]\n",
    "                \n",
    "            \n",
    "    return dp[-1]"
   ]
  },
  {
   "cell_type": "code",
   "execution_count": 18,
   "metadata": {},
   "outputs": [
    {
     "data": {
      "text/plain": [
       "(8, [4, 4])"
      ]
     },
     "execution_count": 18,
     "metadata": {},
     "output_type": "execute_result"
    }
   ],
   "source": [
    "get_wis_m(path)"
   ]
  },
  {
   "cell_type": "code",
   "execution_count": 3,
   "metadata": {},
   "outputs": [],
   "source": [
    "def get_wis_r(p,i):\n",
    "    if i==0 or i==1:\n",
    "        return p[i]\n",
    "    \n",
    "    else:\n",
    "        return max(get_wis_r(p,i-2)+p[i],get_wis_r(p,i-1))\n",
    "    "
   ]
  },
  {
   "cell_type": "code",
   "execution_count": 5,
   "metadata": {},
   "outputs": [
    {
     "data": {
      "text/plain": [
       "8"
      ]
     },
     "execution_count": 5,
     "metadata": {},
     "output_type": "execute_result"
    }
   ],
   "source": [
    "get_wis_r(path,len(path)-1)"
   ]
  },
  {
   "cell_type": "code",
   "execution_count": 50,
   "metadata": {},
   "outputs": [
    {
     "name": "stdout",
     "output_type": "stream",
     "text": [
      "1\n"
     ]
    },
    {
     "data": {
      "text/plain": [
       "(30, [10, 8, 6, 4, 2])"
      ]
     },
     "execution_count": 50,
     "metadata": {},
     "output_type": "execute_result"
    }
   ],
   "source": [
    "p_ = [i for i in range(1,11)]\n",
    "#p_[0] = 11 \n",
    "\n",
    "get_wis(p_)"
   ]
  },
  {
   "cell_type": "code",
   "execution_count": 8,
   "metadata": {},
   "outputs": [
    {
     "data": {
      "text/plain": [
       "30"
      ]
     },
     "execution_count": 8,
     "metadata": {},
     "output_type": "execute_result"
    }
   ],
   "source": [
    "get_wis_r(p_,len(p_)-1)"
   ]
  }
 ],
 "metadata": {
  "kernelspec": {
   "display_name": "Python 3",
   "language": "python",
   "name": "python3"
  },
  "language_info": {
   "codemirror_mode": {
    "name": "ipython",
    "version": 3
   },
   "file_extension": ".py",
   "mimetype": "text/x-python",
   "name": "python",
   "nbconvert_exporter": "python",
   "pygments_lexer": "ipython3",
   "version": "3.7.4"
  }
 },
 "nbformat": 4,
 "nbformat_minor": 2
}
