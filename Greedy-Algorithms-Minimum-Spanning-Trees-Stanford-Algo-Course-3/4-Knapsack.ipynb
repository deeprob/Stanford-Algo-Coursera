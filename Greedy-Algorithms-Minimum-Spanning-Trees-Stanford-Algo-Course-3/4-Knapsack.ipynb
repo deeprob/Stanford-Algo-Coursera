{
 "cells": [
  {
   "cell_type": "code",
   "execution_count": 1,
   "metadata": {},
   "outputs": [],
   "source": [
    "import numpy as np"
   ]
  },
  {
   "cell_type": "code",
   "execution_count": 2,
   "metadata": {},
   "outputs": [],
   "source": [
    "v = [3,2,4,4]\n",
    "w = [4,3,2,3]\n",
    "W = 6"
   ]
  },
  {
   "cell_type": "code",
   "execution_count": 3,
   "metadata": {},
   "outputs": [],
   "source": [
    "def knapsack(v,w,W):\n",
    "    dp_val = np.zeros((len(v)+1,W+1))\n",
    "\n",
    "    a,b = dp_val.shape\n",
    "\n",
    "    for i in range(1,a):\n",
    "        for j in range(1,b):\n",
    "            if w[i-1]>j:\n",
    "                dp_val[i,j] = dp_val[i-1,j]\n",
    "            else:\n",
    "                dp_val[i,j] = max(dp_val[i-1,j],dp_val[i-1,j-w[i-1]]+v[i-1])\n",
    "\n",
    "    # traceback\n",
    "    curr_val = dp_val[a-1,b-1]\n",
    "    i = a-1\n",
    "    j = b-1\n",
    "    path = []\n",
    "    while i>0 and j>0 and curr_val>0:\n",
    "        if dp_val[i-1,j-w[i-1]]+v[i-1] == dp_val[i,j]:\n",
    "            path.append(v[i-1])\n",
    "            j-= w[i-1]\n",
    "            i-=1\n",
    "            curr_val = dp_val[i,j]\n",
    "        else:\n",
    "            i-=1\n",
    "            curr_val = dp_val[i,j]\n",
    "    return dp_val,path"
   ]
  },
  {
   "cell_type": "code",
   "execution_count": 4,
   "metadata": {},
   "outputs": [
    {
     "data": {
      "text/plain": [
       "(array([[0., 0., 0., 0., 0., 0., 0.],\n",
       "        [0., 0., 0., 0., 3., 3., 3.],\n",
       "        [0., 0., 0., 2., 3., 3., 3.],\n",
       "        [0., 0., 4., 4., 4., 6., 7.],\n",
       "        [0., 0., 4., 4., 4., 8., 8.]]), [4, 4])"
      ]
     },
     "execution_count": 4,
     "metadata": {},
     "output_type": "execute_result"
    }
   ],
   "source": [
    "knapsack(v,w,W)"
   ]
  },
  {
   "cell_type": "code",
   "execution_count": 5,
   "metadata": {},
   "outputs": [],
   "source": [
    "v_ = [1,2,3,4,5,11,12,13]\n",
    "w_ = [3,2,1,1,4,1,1,1]\n",
    "W_ = 5"
   ]
  },
  {
   "cell_type": "code",
   "execution_count": 6,
   "metadata": {},
   "outputs": [
    {
     "data": {
      "text/plain": [
       "(array([[ 0.,  0.,  0.,  0.,  0.,  0.],\n",
       "        [ 0.,  0.,  0.,  1.,  1.,  1.],\n",
       "        [ 0.,  0.,  2.,  2.,  2.,  3.],\n",
       "        [ 0.,  3.,  3.,  5.,  5.,  5.],\n",
       "        [ 0.,  4.,  7.,  7.,  9.,  9.],\n",
       "        [ 0.,  4.,  7.,  7.,  9.,  9.],\n",
       "        [ 0., 11., 15., 18., 18., 20.],\n",
       "        [ 0., 12., 23., 27., 30., 30.],\n",
       "        [ 0., 13., 25., 36., 40., 43.]]), [13, 12, 11, 4, 3])"
      ]
     },
     "execution_count": 6,
     "metadata": {},
     "output_type": "execute_result"
    }
   ],
   "source": [
    "knapsack(v_,w_,W_)"
   ]
  }
 ],
 "metadata": {
  "kernelspec": {
   "display_name": "Python 3",
   "language": "python",
   "name": "python3"
  },
  "language_info": {
   "codemirror_mode": {
    "name": "ipython",
    "version": 3
   },
   "file_extension": ".py",
   "mimetype": "text/x-python",
   "name": "python",
   "nbconvert_exporter": "python",
   "pygments_lexer": "ipython3",
   "version": "3.7.4"
  }
 },
 "nbformat": 4,
 "nbformat_minor": 2
}
