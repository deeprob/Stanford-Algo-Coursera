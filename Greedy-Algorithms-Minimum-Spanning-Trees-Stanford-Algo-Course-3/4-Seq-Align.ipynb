{
 "cells": [
  {
   "cell_type": "code",
   "execution_count": 26,
   "metadata": {},
   "outputs": [],
   "source": [
    "import numpy as np"
   ]
  },
  {
   "cell_type": "code",
   "execution_count": 27,
   "metadata": {},
   "outputs": [],
   "source": [
    "A = 'ACGTCC'\n",
    "B = 'CGCCTT'\n",
    "\n",
    "sub_val = 1\n",
    "gap_val = 2\n",
    "\n",
    "dp = np.zeros((len(A)+1,len(B)+1))\n",
    "\n",
    "dp[0,:] = [i*gap_val for i in range(len(B)+1)]\n",
    "dp[:,0] = [i*gap_val for i in range(len(A)+1)]"
   ]
  },
  {
   "cell_type": "code",
   "execution_count": 28,
   "metadata": {},
   "outputs": [
    {
     "data": {
      "text/plain": [
       "array([[ 0.,  2.,  4.,  6.,  8., 10., 12.],\n",
       "       [ 2.,  0.,  0.,  0.,  0.,  0.,  0.],\n",
       "       [ 4.,  0.,  0.,  0.,  0.,  0.,  0.],\n",
       "       [ 6.,  0.,  0.,  0.,  0.,  0.,  0.],\n",
       "       [ 8.,  0.,  0.,  0.,  0.,  0.,  0.],\n",
       "       [10.,  0.,  0.,  0.,  0.,  0.,  0.],\n",
       "       [12.,  0.,  0.,  0.,  0.,  0.,  0.]])"
      ]
     },
     "execution_count": 28,
     "metadata": {},
     "output_type": "execute_result"
    }
   ],
   "source": [
    "dp"
   ]
  },
  {
   "cell_type": "code",
   "execution_count": 29,
   "metadata": {},
   "outputs": [],
   "source": [
    "a,b = dp.shape\n",
    "for i in range(1,a):\n",
    "    for j in range(1,b):\n",
    "        if A[i-1]==B[j-1]:\n",
    "            dp[i,j] = min(dp[i-1,j-1],dp[i-1,j],dp[i,j-1])\n",
    "        else:\n",
    "            dp[i,j] = min(dp[i-1,j-1]+sub_val,dp[i-1,j]+gap_val,dp[i,j-1]+gap_val)"
   ]
  },
  {
   "cell_type": "code",
   "execution_count": 30,
   "metadata": {},
   "outputs": [
    {
     "data": {
      "text/plain": [
       "array([[ 0.,  2.,  4.,  6.,  8., 10., 12.],\n",
       "       [ 2.,  1.,  3.,  5.,  7.,  9., 11.],\n",
       "       [ 4.,  1.,  2.,  2.,  2.,  4.,  6.],\n",
       "       [ 6.,  3.,  1.,  3.,  3.,  3.,  5.],\n",
       "       [ 8.,  5.,  3.,  2.,  4.,  3.,  3.],\n",
       "       [10.,  5.,  5.,  2.,  2.,  4.,  4.],\n",
       "       [12.,  5.,  6.,  2.,  2.,  3.,  5.]])"
      ]
     },
     "execution_count": 30,
     "metadata": {},
     "output_type": "execute_result"
    }
   ],
   "source": [
    "dp"
   ]
  },
  {
   "cell_type": "code",
   "execution_count": null,
   "metadata": {},
   "outputs": [],
   "source": []
  }
 ],
 "metadata": {
  "kernelspec": {
   "display_name": "Python 3",
   "language": "python",
   "name": "python3"
  },
  "language_info": {
   "codemirror_mode": {
    "name": "ipython",
    "version": 3
   },
   "file_extension": ".py",
   "mimetype": "text/x-python",
   "name": "python",
   "nbconvert_exporter": "python",
   "pygments_lexer": "ipython3",
   "version": "3.7.4"
  }
 },
 "nbformat": 4,
 "nbformat_minor": 2
}
