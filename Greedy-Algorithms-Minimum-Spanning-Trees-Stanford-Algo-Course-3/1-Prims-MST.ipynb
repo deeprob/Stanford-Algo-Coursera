{
 "cells": [
  {
   "cell_type": "code",
   "execution_count": 9,
   "metadata": {},
   "outputs": [],
   "source": [
    "G = {'a':[('b',1),('c',4),('d',3)],\n",
    "     'b':[('a',1),('d',2)],\n",
    "     'c':[('a',4),('d',5)],\n",
    "     'd':[('a',3),('c',5),('b',2)]}"
   ]
  },
  {
   "cell_type": "code",
   "execution_count": 1,
   "metadata": {},
   "outputs": [],
   "source": [
    "import heapq"
   ]
  },
  {
   "cell_type": "code",
   "execution_count": 10,
   "metadata": {},
   "outputs": [],
   "source": [
    "def getCheapestEdge(G,X):\n",
    "    cheapest = None\n",
    "    for u in X:\n",
    "        for v,w in G[u]:\n",
    "            if v not in X:\n",
    "                if cheapest:\n",
    "                    if cheapest[0]>w:\n",
    "                        cheapest = (w,(u,v))\n",
    "                else:\n",
    "                    cheapest = (w,(u,v))\n",
    "    return cheapest\n",
    "            "
   ]
  },
  {
   "cell_type": "code",
   "execution_count": 188,
   "metadata": {},
   "outputs": [],
   "source": [
    "def naive(G,s):\n",
    "    X = set(s) if type(s)!= int else set([s])\n",
    "    T = []\n",
    "    while len(X)<len(G):\n",
    "        cheapest = getCheapestEdge(G,X)\n",
    "        T.append(cheapest)\n",
    "        X.add(cheapest[1][1])\n",
    "    return T"
   ]
  },
  {
   "cell_type": "code",
   "execution_count": 189,
   "metadata": {},
   "outputs": [],
   "source": [
    "def fast(G,s):\n",
    "    X = set(s) if type(s)!= int else set([s])\n",
    "    H = [(w,(s,v)) for v,w in G[s]]\n",
    "    heapq.heapify(H)\n",
    "    T = []\n",
    "    while len(X)<len(G):\n",
    "        cheapest = heapq.heappop(H)\n",
    "        u = cheapest[1][1]\n",
    "        while u in X:\n",
    "            cheapest = heapq.heappop(H)\n",
    "            u = cheapest[1][1]\n",
    "        T.append(cheapest)\n",
    "        X.add(u)\n",
    "        for v,w in G[u]:\n",
    "            if v not in X:\n",
    "                heapq.heappush(H,(w,(u,v)))\n",
    "            \n",
    "    return T"
   ]
  },
  {
   "cell_type": "code",
   "execution_count": 170,
   "metadata": {},
   "outputs": [],
   "source": [
    "class Heap:\n",
    "    def __init__(self,L):\n",
    "        '''L is either a single element list or a tupled list\n",
    "        Note: Tuple comparisons work normally, no need to treat them\n",
    "        as a separate case'''\n",
    "        self.heap = []\n",
    "        self.id_dict = {}\n",
    "        self.heapify(L)\n",
    "            \n",
    "\n",
    "            \n",
    "            \n",
    "    def __bubble_up_helper(self,idx,parent_idx):\n",
    "        self.heap[idx],self.heap[parent_idx] = self.heap[parent_idx],self.heap[idx]\n",
    "        self.id_dict[self.heap[parent_idx][-1]] = parent_idx\n",
    "        self.id_dict[self.heap[idx][-1]] = idx\n",
    "        return \n",
    "    \n",
    "    def _bubble_up(self,idx):\n",
    "        if idx>0:\n",
    "            parent_idx = self.__get_parent_idx(idx)\n",
    "            if self.heap[idx]<=self.heap[parent_idx]:\n",
    "                self.__bubble_up_helper(idx,parent_idx)\n",
    "                return self._bubble_up(parent_idx)\n",
    "                \n",
    "            \n",
    "    \n",
    "    \n",
    "    def __get_parent_idx(self,idx):\n",
    "        if idx%2==0:\n",
    "            parent_idx = int(idx/2) - 1\n",
    "        else:\n",
    "            parent_idx = int(idx//2)\n",
    "        return parent_idx\n",
    "\n",
    "\n",
    "    def insert(self,ele):\n",
    "\n",
    "        self.heap.append(ele)\n",
    "        idx = len(self.heap)-1\n",
    "        self.id_dict[ele[-1]] = idx\n",
    "\n",
    "        self._bubble_up(idx)\n",
    "\n",
    "        return \n",
    "    \n",
    "    def heapify(self,arr):\n",
    "        for ele in arr:\n",
    "            self.insert(ele)\n",
    "        return\n",
    "    \n",
    "    def __bubble_down_helper(self,idx,min_child_idx):\n",
    "        self.heap[idx],self.heap[min_child_idx] = self.heap[min_child_idx],self.heap[idx]\n",
    "        self.id_dict[self.heap[min_child_idx][-1]] = min_child_idx\n",
    "        self.id_dict[self.heap[idx][-1]] = idx\n",
    "        return\n",
    "    \n",
    "    \n",
    "    def _bubble_down(self,idx):\n",
    "        child_idx = self.__get_min_child_idx(self.heap,idx)\n",
    "        if child_idx:\n",
    "\n",
    "            if self.heap[idx]>self.heap[child_idx]:\n",
    "                self.__bubble_down_helper(idx,child_idx)\n",
    "                return self._bubble_down(child_idx)\n",
    "\n",
    "                \n",
    "\n",
    "    def __get_min_child_idx(self,arr,idx):\n",
    "        larr = len(arr)\n",
    "        if larr>(2*idx+2):\n",
    "            if arr[2*idx+1]<arr[2*idx+2]:\n",
    "                return 2*idx+1\n",
    "            else:\n",
    "                return 2*idx+2\n",
    "        elif larr>(2*idx+1):\n",
    "            return 2*idx+1\n",
    "        else:\n",
    "            return\n",
    "\n",
    "\n",
    "    def extract_min(self):\n",
    "        if self.heap:\n",
    "\n",
    "            mini = self.heap[0]\n",
    "\n",
    "            self.delete_element(0)\n",
    "            return mini \n",
    "    \n",
    "    def delete_element(self,idx):\n",
    "        if self.heap:\n",
    "            \n",
    "            if idx!=len(self.heap)-1: # if not the last element in the heap\n",
    "            \n",
    "                #step 1 replace the element with the last element of the heap\n",
    "                self.heap[idx],self.heap[len(self.heap)-1] = self.heap[len(self.heap)-1],self.heap[idx]\n",
    "                self.id_dict[self.heap[len(self.heap)-1][-1]] = len(self.heap)-1\n",
    "                self.id_dict[self.heap[idx][-1]] = idx\n",
    "\n",
    "                del self.id_dict[self.heap[len(self.heap)-1][-1]]\n",
    "                del self.heap[-1]\n",
    "\n",
    "\n",
    "                # either bubble up\n",
    "                self._bubble_up(idx)\n",
    "\n",
    "                # or bubble down\n",
    "                self._bubble_down(idx)\n",
    "\n",
    "                return\n",
    "            \n",
    "            else: #if the last element in the heap\n",
    "                del self.id_dict[self.heap[len(self.heap)-1][-1]]\n",
    "                del self.heap[-1]"
   ]
  },
  {
   "cell_type": "code",
   "execution_count": 212,
   "metadata": {},
   "outputs": [],
   "source": [
    "# need to write a heap class with position of each vertex defined. Also need to remember the parent\n",
    "# of a value entered. Additional Bookkeeping.\n",
    "\n",
    "def faster(G,s):\n",
    "    X = set()\n",
    "    H = [(1e9,None,v) if v!=s else (0,v,v) for i,v in enumerate(G.keys())]\n",
    "    H = Heap(H)\n",
    "    T = []\n",
    "    parent = {v:(None if v!=s else s) for v in G.keys()}\n",
    "    while len(X)<len(G):\n",
    "        cheapest = H.extract_min()\n",
    "        u = cheapest[-1]\n",
    "        T.append((cheapest[0],(parent[u],u)))\n",
    "        X.add(u)\n",
    "        for v,w in G[u]:\n",
    "            if v not in X:\n",
    "                idx = H.id_dict[v]\n",
    "                w_ = H.heap[idx][0]\n",
    "                entry = H.heap[idx][1]\n",
    "                if w<w_:\n",
    "                    H.delete_element(idx)\n",
    "                    parent[v] = u\n",
    "                    H.insert((w,u,v))\n",
    "                \n",
    "\n",
    "    return T"
   ]
  },
  {
   "cell_type": "code",
   "execution_count": 213,
   "metadata": {},
   "outputs": [
    {
     "data": {
      "text/plain": [
       "[(0, ('b', 'b')), (1, ('b', 'a')), (2, ('b', 'd')), (4, ('a', 'c'))]"
      ]
     },
     "execution_count": 213,
     "metadata": {},
     "output_type": "execute_result"
    }
   ],
   "source": [
    "faster(G,'b')"
   ]
  },
  {
   "cell_type": "code",
   "execution_count": 215,
   "metadata": {},
   "outputs": [
    {
     "data": {
      "text/plain": [
       "[(1, ('b', 'a')), (2, ('b', 'd')), (4, ('a', 'c'))]"
      ]
     },
     "execution_count": 215,
     "metadata": {},
     "output_type": "execute_result"
    }
   ],
   "source": [
    "naive(G,'b')"
   ]
  },
  {
   "cell_type": "code",
   "execution_count": 216,
   "metadata": {},
   "outputs": [
    {
     "data": {
      "text/plain": [
       "[(1, ('b', 'a')), (2, ('b', 'd')), (4, ('a', 'c'))]"
      ]
     },
     "execution_count": 216,
     "metadata": {},
     "output_type": "execute_result"
    }
   ],
   "source": [
    "fast(G,'b')"
   ]
  },
  {
   "cell_type": "code",
   "execution_count": 220,
   "metadata": {},
   "outputs": [],
   "source": [
    "# example from geeks for geeks\n",
    "G_ = {0:[(1,4),(7,8)],\n",
    "      1:[(0,4),(2,8),(7,11)],\n",
    "      2:[(1,8),(3,7),(5,4),(8,2)],\n",
    "      3:[(2,7),(4,9),(5,14)],\n",
    "      4:[(3,9),(5,10)],\n",
    "      5:[(4,10),(3,14),(2,4),(6,2)],\n",
    "      6:[(5,2),(8,6),(7,1)],\n",
    "      7:[(8,7),(6,1),(0,8),(1,11)],\n",
    "      8:[(6,6),(2,2),(7,7)]}"
   ]
  },
  {
   "cell_type": "code",
   "execution_count": 217,
   "metadata": {},
   "outputs": [
    {
     "data": {
      "text/plain": [
       "[(4, (0, 1)),\n",
       " (8, (0, 7)),\n",
       " (1, (7, 6)),\n",
       " (2, (6, 5)),\n",
       " (4, (5, 2)),\n",
       " (2, (2, 8)),\n",
       " (7, (2, 3)),\n",
       " (9, (3, 4))]"
      ]
     },
     "execution_count": 217,
     "metadata": {},
     "output_type": "execute_result"
    }
   ],
   "source": [
    "naive(G_,0)"
   ]
  },
  {
   "cell_type": "code",
   "execution_count": 218,
   "metadata": {},
   "outputs": [
    {
     "data": {
      "text/plain": [
       "[(4, (0, 1)),\n",
       " (8, (0, 7)),\n",
       " (1, (7, 6)),\n",
       " (2, (6, 5)),\n",
       " (4, (5, 2)),\n",
       " (2, (2, 8)),\n",
       " (7, (2, 3)),\n",
       " (9, (3, 4))]"
      ]
     },
     "execution_count": 218,
     "metadata": {},
     "output_type": "execute_result"
    }
   ],
   "source": [
    "fast(G_,0)"
   ]
  },
  {
   "cell_type": "code",
   "execution_count": 219,
   "metadata": {},
   "outputs": [
    {
     "data": {
      "text/plain": [
       "[(0, (0, 0)),\n",
       " (4, (0, 1)),\n",
       " (8, (0, 7)),\n",
       " (1, (7, 6)),\n",
       " (2, (6, 5)),\n",
       " (4, (5, 2)),\n",
       " (2, (2, 8)),\n",
       " (7, (2, 3)),\n",
       " (9, (3, 4))]"
      ]
     },
     "execution_count": 219,
     "metadata": {},
     "output_type": "execute_result"
    }
   ],
   "source": [
    "faster(G_,0)"
   ]
  },
  {
   "cell_type": "code",
   "execution_count": null,
   "metadata": {},
   "outputs": [],
   "source": []
  }
 ],
 "metadata": {
  "kernelspec": {
   "display_name": "Python 3",
   "language": "python",
   "name": "python3"
  },
  "language_info": {
   "codemirror_mode": {
    "name": "ipython",
    "version": 3
   },
   "file_extension": ".py",
   "mimetype": "text/x-python",
   "name": "python",
   "nbconvert_exporter": "python",
   "pygments_lexer": "ipython3",
   "version": "3.7.4"
  }
 },
 "nbformat": 4,
 "nbformat_minor": 2
}
