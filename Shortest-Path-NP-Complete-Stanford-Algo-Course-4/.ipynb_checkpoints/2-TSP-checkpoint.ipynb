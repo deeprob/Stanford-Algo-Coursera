{
 "cells": [
  {
   "cell_type": "code",
   "execution_count": 2,
   "metadata": {},
   "outputs": [],
   "source": [
    "import numpy as np"
   ]
  },
  {
   "cell_type": "code",
   "execution_count": 1,
   "metadata": {},
   "outputs": [],
   "source": [
    "Gr = {1:[(2,10),(3,15),(4,20)],\n",
    "     2:[(1,10),(3,35),(4,25)],\n",
    "     3:[(1,15),(2,35),(4,30)],\n",
    "     4:[(1,20),(2,25),(3,30)]}"
   ]
  },
  {
   "cell_type": "code",
   "execution_count": 52,
   "metadata": {},
   "outputs": [],
   "source": [
    "Gr2 = {1:[(2,10),(3,15),(4,20)],\n",
    "     2:[(1,5),(3,9),(4,10)],\n",
    "     3:[(1,6),(2,13),(4,12)],\n",
    "     4:[(1,8),(2,8),(3,9)]}"
   ]
  },
  {
   "cell_type": "code",
   "execution_count": 10,
   "metadata": {},
   "outputs": [
    {
     "data": {
      "text/plain": [
       "'0b1'"
      ]
     },
     "execution_count": 10,
     "metadata": {},
     "output_type": "execute_result"
    }
   ],
   "source": [
    "bin(1)"
   ]
  },
  {
   "cell_type": "code",
   "execution_count": 11,
   "metadata": {},
   "outputs": [],
   "source": [
    "import itertools"
   ]
  },
  {
   "cell_type": "code",
   "execution_count": 24,
   "metadata": {},
   "outputs": [
    {
     "data": {
      "text/plain": [
       "[[(1,)],\n",
       " [(1, 2), (1, 3), (1, 4)],\n",
       " [(1, 2, 3), (1, 2, 4), (1, 3, 4)],\n",
       " [(1, 2, 3, 4)]]"
      ]
     },
     "execution_count": 24,
     "metadata": {},
     "output_type": "execute_result"
    }
   ],
   "source": [
    "[[x for x in itertools.combinations({1,2,3,4},i) if x[0]==1] for i in range(1,5)]"
   ]
  },
  {
   "cell_type": "code",
   "execution_count": 26,
   "metadata": {},
   "outputs": [
    {
     "data": {
      "text/plain": [
       "(1, 3)"
      ]
     },
     "execution_count": 26,
     "metadata": {},
     "output_type": "execute_result"
    }
   ],
   "source": [
    " tuple([v for v in (1,2,3) if v!=2])"
   ]
  },
  {
   "cell_type": "code",
   "execution_count": 34,
   "metadata": {},
   "outputs": [],
   "source": [
    "def get_dist(G,s,d):\n",
    "    for edge in G[s]:\n",
    "        if edge[0]==d:\n",
    "            return edge[1]"
   ]
  },
  {
   "cell_type": "code",
   "execution_count": 54,
   "metadata": {},
   "outputs": [],
   "source": [
    "memo = {}\n",
    "\n",
    "def tsp(G):\n",
    "    global memo\n",
    "    \n",
    "    elements = list(G.keys())\n",
    "    \n",
    "    sets = []\n",
    "    sets.append([])\n",
    "    \n",
    "    for i in range(1,len(elements)+1):\n",
    "        set_i = [x for x in itertools.combinations(elements,i) if x[0]==1]\n",
    "        sets.append(set_i)\n",
    "        assert len(sets)==i+1\n",
    "    \n",
    "    memo[(sets[1][0],1)] = 0\n",
    "    \n",
    "    for m in range(2,len(elements)+1):\n",
    "        for set_i in sets[m]:\n",
    "            memo[(set_i),1] = 1e9\n",
    "            for j in set_i:\n",
    "                if j!=1:\n",
    "                    set_i_j = tuple([v for v in set_i if v!=j])\n",
    "                    min_val = 1e9\n",
    "                    for k in set_i_j:\n",
    "                        #distance from k to j is required\n",
    "                        d_k_j = get_dist(G,k,j)\n",
    "                        curr_val = memo[(set_i_j,k)] + d_k_j\n",
    "                        if curr_val<min_val:\n",
    "                            min_val=curr_val\n",
    "                    memo[(set_i,j)] = min_val\n",
    "    \n",
    "    min_val = 1e9\n",
    "    for set_n in sets[-1]:\n",
    "        for j in set_n:\n",
    "            if j!=1:\n",
    "                curr_val = memo[(set_n,j)] + get_dist(G,j,1)\n",
    "                if curr_val<min_val:\n",
    "                    min_val=curr_val\n",
    "    return min_val\n",
    "    \n",
    "    "
   ]
  },
  {
   "cell_type": "code",
   "execution_count": 55,
   "metadata": {},
   "outputs": [
    {
     "data": {
      "text/plain": [
       "80"
      ]
     },
     "execution_count": 55,
     "metadata": {},
     "output_type": "execute_result"
    }
   ],
   "source": [
    "memo = {}\n",
    "tsp(Gr)"
   ]
  },
  {
   "cell_type": "code",
   "execution_count": 56,
   "metadata": {},
   "outputs": [
    {
     "data": {
      "text/plain": [
       "35"
      ]
     },
     "execution_count": 56,
     "metadata": {},
     "output_type": "execute_result"
    }
   ],
   "source": [
    "memo = {}\n",
    "tsp(Gr2)"
   ]
  },
  {
   "cell_type": "code",
   "execution_count": null,
   "metadata": {},
   "outputs": [],
   "source": []
  }
 ],
 "metadata": {
  "kernelspec": {
   "display_name": "Python 3",
   "language": "python",
   "name": "python3"
  },
  "language_info": {
   "codemirror_mode": {
    "name": "ipython",
    "version": 3
   },
   "file_extension": ".py",
   "mimetype": "text/x-python",
   "name": "python",
   "nbconvert_exporter": "python",
   "pygments_lexer": "ipython3",
   "version": "3.7.4"
  }
 },
 "nbformat": 4,
 "nbformat_minor": 2
}
