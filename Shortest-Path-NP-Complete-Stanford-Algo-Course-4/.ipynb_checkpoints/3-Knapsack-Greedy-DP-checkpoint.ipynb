{
 "cells": [
  {
   "cell_type": "code",
   "execution_count": 1,
   "metadata": {},
   "outputs": [],
   "source": [
    "import numpy as np"
   ]
  },
  {
   "cell_type": "code",
   "execution_count": 27,
   "metadata": {},
   "outputs": [],
   "source": [
    "V = [2,4,3]\n",
    "W = [1,3,3]\n",
    "\n",
    "V_W = [v/w for v,w in zip(V,W)]\n",
    "\n",
    "sort_idx = np.argsort(V_W)"
   ]
  },
  {
   "cell_type": "code",
   "execution_count": 28,
   "metadata": {},
   "outputs": [],
   "source": [
    "def gKnapsack(V,W,capW):\n",
    "    V_W = [v/w for v,w in zip(V,W)]\n",
    "    sort_idx = np.argsort(V_W)[::-1]\n",
    "    Vmaxidx = V.index(max(V))\n",
    "    \n",
    "    val = 0\n",
    "    weight = 0\n",
    "    for i in sort_idx:\n",
    "        val += V[i]\n",
    "        weight += W[i]\n",
    "        if weight==capW:\n",
    "            return max(val,V[Vmaxidx])\n",
    "        if weight>capW:\n",
    "            return max(val-V[i],V[Vmaxidx])\n",
    "    return val,weight"
   ]
  },
  {
   "cell_type": "code",
   "execution_count": 29,
   "metadata": {},
   "outputs": [
    {
     "data": {
      "text/plain": [
       "6"
      ]
     },
     "execution_count": 29,
     "metadata": {},
     "output_type": "execute_result"
    }
   ],
   "source": [
    "gKnapsack(V,W,5)"
   ]
  },
  {
   "cell_type": "code",
   "execution_count": 15,
   "metadata": {},
   "outputs": [
    {
     "data": {
      "text/plain": [
       "1000"
      ]
     },
     "execution_count": 15,
     "metadata": {},
     "output_type": "execute_result"
    }
   ],
   "source": [
    "V_ = [2,1000]\n",
    "W_ = [1,1000]\n",
    "\n",
    "gKnapsack(V_,W_,1000)"
   ]
  },
  {
   "cell_type": "code",
   "execution_count": 17,
   "metadata": {},
   "outputs": [
    {
     "data": {
      "text/plain": [
       "502"
      ]
     },
     "execution_count": 17,
     "metadata": {},
     "output_type": "execute_result"
    }
   ],
   "source": [
    "V__ = [502,500,500]\n",
    "W__ = [501,500,500]\n",
    "\n",
    "gKnapsack(V__,W__,1000)"
   ]
  },
  {
   "cell_type": "code",
   "execution_count": 37,
   "metadata": {},
   "outputs": [],
   "source": [
    "# values are small not the capacity\n",
    "# Running time O(n^2 v_max)\n",
    "# minimize the weight while getting the maximum value\n",
    "\n",
    "def dpKnacpsack(V,W,Cap):\n",
    "    n = len(V)\n",
    "    nmaxV = n*max(V)\n",
    "    \n",
    "    dp = np.zeros((n+1,n*max(V)+1))\n",
    "    \n",
    "    dp[0,:] = 10000\n",
    "    dp[0,0] = 0\n",
    "    \n",
    "    for i in range(1,n+1):\n",
    "        for x in range(0,nmaxV+1):\n",
    "            first = dp[i-1,x]\n",
    "            second = W[i-1] + dp[i-1,x-V[i-1]] if V[i-1]<x else W[i-1]\n",
    "            dp[i,x] = min(first,second)\n",
    "    for idx in range(nmaxV,-1,-1):\n",
    "        val = min(dp[:,idx])\n",
    "        if val<=Cap:\n",
    "            return idx\n",
    "    return "
   ]
  },
  {
   "cell_type": "code",
   "execution_count": 38,
   "metadata": {},
   "outputs": [
    {
     "data": {
      "text/plain": [
       "6"
      ]
     },
     "execution_count": 38,
     "metadata": {},
     "output_type": "execute_result"
    }
   ],
   "source": [
    "dpKnacpsack(V,W,5)"
   ]
  },
  {
   "cell_type": "code",
   "execution_count": 40,
   "metadata": {},
   "outputs": [
    {
     "data": {
      "text/plain": [
       "1000"
      ]
     },
     "execution_count": 40,
     "metadata": {},
     "output_type": "execute_result"
    }
   ],
   "source": [
    "dpKnacpsack(V_,W_,1000)"
   ]
  },
  {
   "cell_type": "code",
   "execution_count": null,
   "metadata": {},
   "outputs": [],
   "source": []
  }
 ],
 "metadata": {
  "kernelspec": {
   "display_name": "Python 3",
   "language": "python",
   "name": "python3"
  },
  "language_info": {
   "codemirror_mode": {
    "name": "ipython",
    "version": 3
   },
   "file_extension": ".py",
   "mimetype": "text/x-python",
   "name": "python",
   "nbconvert_exporter": "python",
   "pygments_lexer": "ipython3",
   "version": "3.7.4"
  }
 },
 "nbformat": 4,
 "nbformat_minor": 2
}
