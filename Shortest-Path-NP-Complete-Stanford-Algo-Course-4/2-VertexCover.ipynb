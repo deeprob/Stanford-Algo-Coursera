{
 "cells": [
  {
   "cell_type": "code",
   "execution_count": 1,
   "metadata": {},
   "outputs": [],
   "source": [
    "G = {'s':['v','x'],\n",
    "         'v':['s','x','w'],\n",
    "         'x':['s','v','t'],\n",
    "         'w':['v','t'],\n",
    "         't':['x','w']}"
   ]
  },
  {
   "cell_type": "code",
   "execution_count": 46,
   "metadata": {},
   "outputs": [],
   "source": [
    "def pickVertexCover(G,k):\n",
    "    if k>=len(G):\n",
    "        return G,k\n",
    "    \n",
    "    if not G:\n",
    "        return True\n",
    "    \n",
    "    S = set(G.keys())\n",
    "    edges = [(v,d) for v in G.keys() for d in G[v]]\n",
    "    \n",
    "    if not edges:\n",
    "        return\n",
    "    \n",
    "    if len(S)==1:\n",
    "        vc = S[0]\n",
    "        flag = True\n",
    "        for edge in edges:\n",
    "            if edge[0]!=vc and edge[1]!=vc:\n",
    "                flag = False\n",
    "                return\n",
    "        return G,k\n",
    "            \n",
    "    if k==0:\n",
    "        return\n",
    "\n",
    "    if k==1:\n",
    "        for vc in S:\n",
    "            flag = True\n",
    "            for edge in edges:\n",
    "                if edge[0]!=vc and edge[1]!=vc:\n",
    "                    flag = False\n",
    "                    break\n",
    "            if flag == True:\n",
    "                return G,k\n",
    "            \n",
    "        return\n",
    "    \n",
    "    random_edge = edges[0]\n",
    "    u = random_edge[0]\n",
    "    v = random_edge[1]\n",
    "    \n",
    "    #make Gu,Gv\n",
    "    Gu = {}\n",
    "    Gv = {}\n",
    "    for vertex in G:\n",
    "        if vertex==u:\n",
    "            Gv[vertex] = [e for e in G[vertex] if e!=v]\n",
    "        elif vertex==v:\n",
    "            Gu[vertex] = [e for e in G[vertex] if e!=u]\n",
    "        else:\n",
    "            Gu[vertex] = [e for e in G[vertex] if e!=u]\n",
    "            Gv[vertex] = [e for e in G[vertex] if e!=v]\n",
    "    \n",
    "    \n",
    "    vcGu = pickVertexCover(Gu,k-1)\n",
    "    if vcGu:\n",
    "        return G,k\n",
    "    \n",
    "    vcGv = pickVertexCover(Gv,k-1)\n",
    "    if vcGv:\n",
    "        return G,k\n",
    "    \n",
    "    return None\n",
    "    "
   ]
  },
  {
   "cell_type": "code",
   "execution_count": 47,
   "metadata": {},
   "outputs": [],
   "source": [
    "Gu = {'s':['v','x'],\n",
    "         'v':['s'],\n",
    "         'x':['s']}\n"
   ]
  },
  {
   "cell_type": "code",
   "execution_count": 54,
   "metadata": {},
   "outputs": [
    {
     "data": {
      "text/plain": [
       "({'s': ['v', 'x'],\n",
       "  'v': ['s', 'x', 'w'],\n",
       "  'x': ['s', 'v', 't'],\n",
       "  'w': ['v', 't'],\n",
       "  't': ['x', 'w']},\n",
       " 3)"
      ]
     },
     "execution_count": 54,
     "metadata": {},
     "output_type": "execute_result"
    }
   ],
   "source": [
    "pickVertexCover(G,3)"
   ]
  },
  {
   "cell_type": "code",
   "execution_count": null,
   "metadata": {},
   "outputs": [],
   "source": []
  }
 ],
 "metadata": {
  "kernelspec": {
   "display_name": "Python 3",
   "language": "python",
   "name": "python3"
  },
  "language_info": {
   "codemirror_mode": {
    "name": "ipython",
    "version": 3
   },
   "file_extension": ".py",
   "mimetype": "text/x-python",
   "name": "python",
   "nbconvert_exporter": "python",
   "pygments_lexer": "ipython3",
   "version": "3.7.4"
  }
 },
 "nbformat": 4,
 "nbformat_minor": 2
}
