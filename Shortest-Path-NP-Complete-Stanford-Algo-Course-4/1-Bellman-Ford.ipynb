{
 "cells": [
  {
   "cell_type": "code",
   "execution_count": 2,
   "metadata": {},
   "outputs": [],
   "source": [
    "import numpy as np"
   ]
  },
  {
   "cell_type": "code",
   "execution_count": 14,
   "metadata": {},
   "outputs": [],
   "source": [
    "G = {'s':[('v',2),('x',4)],\n",
    "     'v':[('x',1),('w',2)],\n",
    "     'x':[('t',4)],\n",
    "     'w':[('t',2)],\n",
    "     't':[]}"
   ]
  },
  {
   "cell_type": "code",
   "execution_count": 15,
   "metadata": {},
   "outputs": [],
   "source": [
    "def shortestpath(G,s):\n",
    "    v_dict = dict(zip(G.keys(),range(len(G))))\n",
    "    k_dict = {v:k for k,v in v_dict.items()}\n",
    "    dp = np.empty((len(G),len(G)))\n",
    "    dp[0,:] = 10\n",
    "    dp[0,v_dict[s]] = 0\n",
    "    \n",
    "    for i in range(1,dp.shape[0]):\n",
    "        for j in range(dp.shape[1]):\n",
    "            v = k_dict[j]\n",
    "            min_val_edge = 1e9\n",
    "            for wi in range(dp.shape[1]):\n",
    "                w = k_dict[wi]\n",
    "                if w==v:\n",
    "                    continue\n",
    "                else:\n",
    "                    for edges in G[w]:\n",
    "                        if edges[0]==v:\n",
    "                            if min_val_edge>(dp[i-1,wi]+edges[1]):\n",
    "                                min_val_edge = dp[i-1,wi]+edges[1]\n",
    "            dp[i,j] = min(dp[i-1,j],min_val_edge)\n",
    "    \n",
    "    return dp"
   ]
  },
  {
   "cell_type": "code",
   "execution_count": 16,
   "metadata": {},
   "outputs": [
    {
     "data": {
      "text/plain": [
       "array([[ 0., 10., 10., 10., 10.],\n",
       "       [ 0.,  2.,  4., 10., 10.],\n",
       "       [ 0.,  2.,  3.,  4.,  8.],\n",
       "       [ 0.,  2.,  3.,  4.,  6.],\n",
       "       [ 0.,  2.,  3.,  4.,  6.]])"
      ]
     },
     "execution_count": 16,
     "metadata": {},
     "output_type": "execute_result"
    }
   ],
   "source": [
    "shortestpath(G,'s')"
   ]
  },
  {
   "cell_type": "code",
   "execution_count": null,
   "metadata": {},
   "outputs": [],
   "source": []
  }
 ],
 "metadata": {
  "kernelspec": {
   "display_name": "Python 3",
   "language": "python",
   "name": "python3"
  },
  "language_info": {
   "codemirror_mode": {
    "name": "ipython",
    "version": 3
   },
   "file_extension": ".py",
   "mimetype": "text/x-python",
   "name": "python",
   "nbconvert_exporter": "python",
   "pygments_lexer": "ipython3",
   "version": "3.7.4"
  }
 },
 "nbformat": 4,
 "nbformat_minor": 2
}
