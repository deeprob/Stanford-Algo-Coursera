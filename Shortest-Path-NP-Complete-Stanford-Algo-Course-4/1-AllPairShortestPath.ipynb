{
 "cells": [
  {
   "cell_type": "code",
   "execution_count": 1,
   "metadata": {},
   "outputs": [],
   "source": [
    "import numpy as np"
   ]
  },
  {
   "cell_type": "code",
   "execution_count": 2,
   "metadata": {},
   "outputs": [],
   "source": [
    "G = {'s':[('v',2),('x',4)],\n",
    "     'v':[('x',1),('w',2)],\n",
    "     'x':[('t',4)],\n",
    "     'w':[('t',2)],\n",
    "     't':[]}"
   ]
  },
  {
   "cell_type": "code",
   "execution_count": 5,
   "metadata": {},
   "outputs": [],
   "source": [
    "def findedge(G,s,v):\n",
    "    for edges in G[s]:\n",
    "        if edges[0]==v:\n",
    "            return edges[1]\n",
    "    return "
   ]
  },
  {
   "cell_type": "code",
   "execution_count": 26,
   "metadata": {},
   "outputs": [],
   "source": [
    "def FloydWarshall(G):\n",
    "    v = list(G.keys())\n",
    "    v_dict = dict(zip(v,range(len(G))))\n",
    "    dp = np.zeros((len(v),len(v),len(v)))\n",
    "    for i in range(len(v)):\n",
    "        for j in range(len(v)):\n",
    "            if i==j:\n",
    "                dp[0,i,j] = 0\n",
    "            else:\n",
    "                e = findedge(G,v[i],v[j])\n",
    "                if e:\n",
    "                    dp[0,i,j] = e\n",
    "                else:\n",
    "                    dp[0,i,j] = 10\n",
    "                \n",
    "    for k in range(1,len(v)):\n",
    "        for i in range(len(v)):\n",
    "            for j in range(len(v)):\n",
    "                dp[k,i,j] = min(dp[k-1,i,j],dp[k-1,i,k]+dp[k-1,k,j])\n",
    "                \n",
    "    return dp\n",
    "    "
   ]
  },
  {
   "cell_type": "code",
   "execution_count": 27,
   "metadata": {},
   "outputs": [],
   "source": [
    "apsp = FloydWarshall(G)"
   ]
  },
  {
   "cell_type": "code",
   "execution_count": 29,
   "metadata": {},
   "outputs": [
    {
     "data": {
      "text/plain": [
       "array([[[ 0.,  2.,  4., 10., 10.],\n",
       "        [10.,  0.,  1.,  2., 10.],\n",
       "        [10., 10.,  0., 10.,  4.],\n",
       "        [10., 10., 10.,  0.,  2.],\n",
       "        [10., 10., 10., 10.,  0.]],\n",
       "\n",
       "       [[ 0.,  2.,  3.,  4., 10.],\n",
       "        [10.,  0.,  1.,  2., 10.],\n",
       "        [10., 10.,  0., 10.,  4.],\n",
       "        [10., 10., 10.,  0.,  2.],\n",
       "        [10., 10., 10., 10.,  0.]],\n",
       "\n",
       "       [[ 0.,  2.,  3.,  4.,  7.],\n",
       "        [10.,  0.,  1.,  2.,  5.],\n",
       "        [10., 10.,  0., 10.,  4.],\n",
       "        [10., 10., 10.,  0.,  2.],\n",
       "        [10., 10., 10., 10.,  0.]],\n",
       "\n",
       "       [[ 0.,  2.,  3.,  4.,  6.],\n",
       "        [10.,  0.,  1.,  2.,  4.],\n",
       "        [10., 10.,  0., 10.,  4.],\n",
       "        [10., 10., 10.,  0.,  2.],\n",
       "        [10., 10., 10., 10.,  0.]],\n",
       "\n",
       "       [[ 0.,  2.,  3.,  4.,  6.],\n",
       "        [10.,  0.,  1.,  2.,  4.],\n",
       "        [10., 10.,  0., 10.,  4.],\n",
       "        [10., 10., 10.,  0.,  2.],\n",
       "        [10., 10., 10., 10.,  0.]]])"
      ]
     },
     "execution_count": 29,
     "metadata": {},
     "output_type": "execute_result"
    }
   ],
   "source": [
    "apsp"
   ]
  },
  {
   "cell_type": "code",
   "execution_count": 64,
   "metadata": {},
   "outputs": [],
   "source": [
    "G_ = {'a':[('b',-2)],\n",
    "      'b':[('c',-1)],\n",
    "      'c':[('a',4),('x',2),('y',-3)],\n",
    "      'x':[],\n",
    "      'y':[],\n",
    "      'z':[('x',1),('y',-4)]}"
   ]
  },
  {
   "cell_type": "code",
   "execution_count": 65,
   "metadata": {},
   "outputs": [],
   "source": [
    "def shortestpath(G,s):\n",
    "    v_dict = dict(zip(G.keys(),range(len(G))))\n",
    "    k_dict = {v:k for k,v in v_dict.items()}\n",
    "    dp = np.empty((len(G),len(G)))\n",
    "    dp[0,:] = 10\n",
    "    dp[0,v_dict[s]] = 0\n",
    "    \n",
    "    for i in range(1,dp.shape[0]):\n",
    "        for j in range(dp.shape[1]):\n",
    "            v = k_dict[j]\n",
    "            min_val_edge = 1e9\n",
    "            for wi in range(dp.shape[1]):\n",
    "                w = k_dict[wi]\n",
    "                if w==v:\n",
    "                    continue\n",
    "                else:\n",
    "                    for edges in G[w]:\n",
    "                        if edges[0]==v:\n",
    "                            if min_val_edge>(dp[i-1,wi]+edges[1]):\n",
    "                                min_val_edge = dp[i-1,wi]+edges[1]\n",
    "            dp[i,j] = min(dp[i-1,j],min_val_edge)\n",
    "    \n",
    "    return dp"
   ]
  },
  {
   "cell_type": "code",
   "execution_count": 68,
   "metadata": {},
   "outputs": [],
   "source": [
    "def Johnsons(G):\n",
    "    #first add a source vertex to the Graph with edges 0\n",
    "    G['s'] = [(v,0) for v in G.keys()]\n",
    "    #then calculate Bellman-Ford\n",
    "    dp = shortestpath(G,'s')\n",
    "    weights = dict(zip(list(G.keys())[:-1],dp[-1,:-1]))\n",
    "    del G['s']\n",
    "    #reweight and create a modified graph\n",
    "    G_mod = {}\n",
    "    for u in G.keys():\n",
    "        for v in G[u]:\n",
    "            if u in G_mod:\n",
    "                G_mod[u].append((v[0],v[1]+weights[u]-weights[v[0]]))\n",
    "            else:\n",
    "                G_mod[u] = [(v[0],v[1]+weights[u]-weights[v[0]])]\n",
    "    print(G_mod)\n",
    "    # Use djikstra's on G_mod\n",
    "    # change the lengths back to their original value \n",
    "    return "
   ]
  },
  {
   "cell_type": "code",
   "execution_count": 69,
   "metadata": {},
   "outputs": [
    {
     "name": "stdout",
     "output_type": "stream",
     "text": [
      "{'a': [('b', 0.0)], 'b': [('c', 0.0)], 'c': [('a', 1.0), ('x', 0.0), ('y', 0.0)], 'z': [('x', 2.0), ('y', 2.0)]}\n"
     ]
    }
   ],
   "source": [
    "Johnsons(G_)"
   ]
  },
  {
   "cell_type": "code",
   "execution_count": null,
   "metadata": {},
   "outputs": [],
   "source": []
  }
 ],
 "metadata": {
  "kernelspec": {
   "display_name": "Python 3",
   "language": "python",
   "name": "python3"
  },
  "language_info": {
   "codemirror_mode": {
    "name": "ipython",
    "version": 3
   },
   "file_extension": ".py",
   "mimetype": "text/x-python",
   "name": "python",
   "nbconvert_exporter": "python",
   "pygments_lexer": "ipython3",
   "version": "3.7.4"
  }
 },
 "nbformat": 4,
 "nbformat_minor": 2
}
