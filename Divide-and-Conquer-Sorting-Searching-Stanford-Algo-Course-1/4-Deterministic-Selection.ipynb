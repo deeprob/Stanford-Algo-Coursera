{
 "cells": [
  {
   "cell_type": "code",
   "execution_count": 1,
   "metadata": {},
   "outputs": [],
   "source": [
    "import random"
   ]
  },
  {
   "cell_type": "code",
   "execution_count": 59,
   "metadata": {},
   "outputs": [],
   "source": [
    "def partition(A,start,end):\n",
    "    i=start+1\n",
    "    j=start+1\n",
    "    while j<end:\n",
    "        if A[start]<A[j]:\n",
    "            j+=1\n",
    "        else:\n",
    "            A[i],A[j] = A[j],A[i]\n",
    "            i+=1 \n",
    "            j+=1\n",
    "    A[start],A[i-1] = A[i-1],A[start]\n",
    "    return i-1"
   ]
  },
  {
   "cell_type": "code",
   "execution_count": 79,
   "metadata": {},
   "outputs": [],
   "source": [
    "def break_into_groups(A,start,end):\n",
    "    return [sorted(A[i:min(i+5,end)]) for i in range(start,end,5)]"
   ]
  },
  {
   "cell_type": "code",
   "execution_count": 93,
   "metadata": {},
   "outputs": [],
   "source": [
    "def Dselect(A,ith,start,end):\n",
    "\n",
    "    global recursion\n",
    "    recursion += 1\n",
    "    if ith>len(A):\n",
    "        return \n",
    "    elif start>=end:\n",
    "        return \n",
    "    elif end-start==1:\n",
    "        return A[start]\n",
    "    else:\n",
    "        global inside\n",
    "        inside += 1\n",
    "        broken_A = break_into_groups(A,start,end)\n",
    "        C = [a[len(a)//2] for a in broken_A]\n",
    "        lengthC = len(C)\n",
    "        if lengthC==1:\n",
    "            pivot_element = C[0]\n",
    "        else:\n",
    "            pivot_element = Dselect(C,lengthC//2,0,lengthC)\n",
    "\n",
    "        pivot_ind = A.index(pivot_element)\n",
    "\n",
    "        A[pivot_ind],A[start] = A[start],A[pivot_ind]\n",
    "        parted_ind = partition(A,start,end)\n",
    "       \n",
    "        if parted_ind == ith-1:\n",
    "            return A[parted_ind]\n",
    "        elif parted_ind>ith-1:\n",
    "            return Dselect(A,ith,start,parted_ind)\n",
    "        else:\n",
    "            return Dselect(A,ith,parted_ind+1,end)"
   ]
  },
  {
   "cell_type": "code",
   "execution_count": 94,
   "metadata": {},
   "outputs": [
    {
     "data": {
      "text/plain": [
       "2"
      ]
     },
     "execution_count": 94,
     "metadata": {},
     "output_type": "execute_result"
    }
   ],
   "source": [
    "Array = [3,8,2,5,1,4,7,6]\n",
    "recursion = 0\n",
    "inside = 0\n",
    "Dselect(Array,2,0,8)"
   ]
  },
  {
   "cell_type": "code",
   "execution_count": 100,
   "metadata": {},
   "outputs": [
    {
     "data": {
      "text/plain": [
       "2"
      ]
     },
     "execution_count": 100,
     "metadata": {},
     "output_type": "execute_result"
    }
   ],
   "source": [
    "Dselect([1, 2, 3, 5, 8, 4, 7, 6, 9, 11, 13 ,12 , 10], 2, 0, 13)"
   ]
  }
 ],
 "metadata": {
  "kernelspec": {
   "display_name": "Python 3",
   "language": "python",
   "name": "python3"
  },
  "language_info": {
   "codemirror_mode": {
    "name": "ipython",
    "version": 3
   },
   "file_extension": ".py",
   "mimetype": "text/x-python",
   "name": "python",
   "nbconvert_exporter": "python",
   "pygments_lexer": "ipython3",
   "version": "3.7.4"
  }
 },
 "nbformat": 4,
 "nbformat_minor": 2
}
