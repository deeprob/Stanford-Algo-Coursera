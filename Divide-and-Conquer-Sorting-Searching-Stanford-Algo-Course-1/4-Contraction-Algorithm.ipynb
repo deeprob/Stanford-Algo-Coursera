{
 "cells": [
  {
   "cell_type": "code",
   "execution_count": 5,
   "metadata": {},
   "outputs": [],
   "source": [
    "import random"
   ]
  },
  {
   "cell_type": "code",
   "execution_count": 62,
   "metadata": {},
   "outputs": [],
   "source": [
    "class myGraph:\n",
    "    def __init__(self,graph=dict()):\n",
    "        self.graph = graph\n",
    "        \n",
    "    def add_edge(self,src,dest):\n",
    "        if src in self.graph:\n",
    "            self.graph[src].append(dest)\n",
    "        else:\n",
    "            self.graph[src] = [dest]\n",
    "        if dest in self.graph:\n",
    "            self.graph[dest].append(src)\n",
    "        else:\n",
    "            self.graph[dest] = [src]\n",
    "            \n",
    "    def pick_random_edge(self):\n",
    "        v1 = list(self.graph.keys())[random.randint(0,len(self.graph)-1)]\n",
    "        v2 = self.graph[v1][random.randint(0,len(self.graph[v1])-1)]\n",
    "        return v1,v2\n",
    "\n",
    "    def merge(self,src,dest):\n",
    "        if src in self.graph:\n",
    "\n",
    "            self.graph[src].extend(self.graph[dest])\n",
    "\n",
    "            del self.graph[dest]\n",
    "            \n",
    "            for k,v in self.graph.items():\n",
    "                self.graph[k] = [val if val!= dest else src for val in v]\n",
    "\n",
    "            self.graph[src] = [val for val in self.graph[src] if val!=src]\n",
    "    \n",
    "    def print_graph(self):\n",
    "        for head,neighbour_list in sorted(self.graph.items(),key=lambda x:x[0]):\n",
    "            print(f'Adjacency list of vertex {head}')\n",
    "            neighbour_representation = ' --> '.join(map(str,neighbour_list))\n",
    "            print('head --> '+neighbour_representation)\n",
    "            print('\\n')"
   ]
  },
  {
   "cell_type": "code",
   "execution_count": 75,
   "metadata": {},
   "outputs": [],
   "source": [
    "def load_graph():\n",
    "    graph = myGraph(dict()) \n",
    "    graph.add_edge(0, 1) \n",
    "    graph.add_edge(0, 3) \n",
    "    graph.add_edge(0, 2) \n",
    "    graph.add_edge(1, 3) \n",
    "    graph.add_edge(2, 3)\n",
    "    return graph"
   ]
  },
  {
   "cell_type": "code",
   "execution_count": 77,
   "metadata": {},
   "outputs": [],
   "source": [
    "def get_mincut(graph):\n",
    "    \n",
    "    while len(graph.graph)>2:\n",
    "        graph.merge(*graph.pick_random_edge())\n",
    "\n",
    "    mincut=len(graph.graph[list(graph.graph.keys())[0]])\n",
    "    \n",
    "    return mincut"
   ]
  },
  {
   "cell_type": "code",
   "execution_count": 81,
   "metadata": {},
   "outputs": [
    {
     "data": {
      "text/plain": [
       "2"
      ]
     },
     "execution_count": 81,
     "metadata": {},
     "output_type": "execute_result"
    }
   ],
   "source": [
    "get_mincut(load_graph())"
   ]
  },
  {
   "cell_type": "code",
   "execution_count": 86,
   "metadata": {},
   "outputs": [],
   "source": [
    "mincutlist = []\n",
    "for i in range(30):\n",
    "    mincutlist.append(get_mincut(load_graph()))"
   ]
  },
  {
   "cell_type": "code",
   "execution_count": 85,
   "metadata": {},
   "outputs": [
    {
     "data": {
      "text/plain": [
       "2"
      ]
     },
     "execution_count": 85,
     "metadata": {},
     "output_type": "execute_result"
    }
   ],
   "source": [
    "min(mincutlist)"
   ]
  }
 ],
 "metadata": {
  "kernelspec": {
   "display_name": "Python 3",
   "language": "python",
   "name": "python3"
  },
  "language_info": {
   "codemirror_mode": {
    "name": "ipython",
    "version": 3
   },
   "file_extension": ".py",
   "mimetype": "text/x-python",
   "name": "python",
   "nbconvert_exporter": "python",
   "pygments_lexer": "ipython3",
   "version": "3.7.4"
  }
 },
 "nbformat": 4,
 "nbformat_minor": 2
}
