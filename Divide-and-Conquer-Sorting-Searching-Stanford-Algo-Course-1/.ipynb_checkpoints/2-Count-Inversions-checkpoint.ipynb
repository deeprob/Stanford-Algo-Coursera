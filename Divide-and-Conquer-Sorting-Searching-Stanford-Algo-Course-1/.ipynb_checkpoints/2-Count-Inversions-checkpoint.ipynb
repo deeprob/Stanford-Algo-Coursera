{
 "cells": [
  {
   "cell_type": "code",
   "execution_count": 1,
   "metadata": {},
   "outputs": [],
   "source": [
    "def split_inversions(A,B):\n",
    "    '''A and B are lists. returns a new list C in sorted order'''\n",
    "    ai = 0\n",
    "    bi = 0\n",
    "    cA = len(A)\n",
    "    cB = len(B)\n",
    "    \n",
    "    C = []\n",
    "    count_split_inversions = 0\n",
    "    while ai<cA and bi<cB:\n",
    "        if A[ai]<B[bi]:\n",
    "            C.append(A[ai])\n",
    "            ai+=1\n",
    "        else:\n",
    "            C.append(B[bi])\n",
    "            bi+=1\n",
    "            count_split_inversions+= (cA-ai)\n",
    "\n",
    "    if A[ai:]:\n",
    "        C.extend(A[ai:]) \n",
    "    \n",
    "    if B[bi:]:\n",
    "        C.extend(B[bi:])\n",
    "    \n",
    "    return C,count_split_inversions"
   ]
  },
  {
   "cell_type": "code",
   "execution_count": 2,
   "metadata": {},
   "outputs": [
    {
     "data": {
      "text/plain": [
       "([1, 2, 3, 4, 5, 6], 3)"
      ]
     },
     "execution_count": 2,
     "metadata": {},
     "output_type": "execute_result"
    }
   ],
   "source": [
    "split_inversions([1,2,6],[3,4,5])"
   ]
  },
  {
   "cell_type": "code",
   "execution_count": 3,
   "metadata": {},
   "outputs": [
    {
     "data": {
      "text/plain": [
       "([1, 4, 6, 28, 30, 53, 92, 700], 20)"
      ]
     },
     "execution_count": 3,
     "metadata": {},
     "output_type": "execute_result"
    }
   ],
   "source": [
    "def count_inversions(A):\n",
    "    '''Input is an Array A. Output, sorted array'''\n",
    "    if len(A) == 1:\n",
    "        return A,0\n",
    "    \n",
    "    else:\n",
    "        mid = int(len(A)//2)\n",
    "        lA = A[:mid]\n",
    "        rA = A[mid:]\n",
    "        slA,clA = count_inversions(lA)\n",
    "        srA,crA = count_inversions(rA)\n",
    "        sA,csA = split_inversions(slA,srA) \n",
    "        return sA,(clA+crA+csA)\n",
    "\n",
    "count_inversions([700,30,53,28,4,6,1,92])"
   ]
  },
  {
   "cell_type": "code",
   "execution_count": 4,
   "metadata": {},
   "outputs": [
    {
     "data": {
      "text/plain": [
       "([1, 2, 3, 4, 5, 6], 15)"
      ]
     },
     "execution_count": 4,
     "metadata": {},
     "output_type": "execute_result"
    }
   ],
   "source": [
    "count_inversions([6,5,4,3,2,1])"
   ]
  },
  {
   "cell_type": "code",
   "execution_count": 5,
   "metadata": {},
   "outputs": [
    {
     "data": {
      "text/plain": [
       "([1, 2, 3, 4, 5, 6], 3)"
      ]
     },
     "execution_count": 5,
     "metadata": {},
     "output_type": "execute_result"
    }
   ],
   "source": [
    "count_inversions([1,2,6,3,4,5])"
   ]
  },
  {
   "cell_type": "code",
   "execution_count": 6,
   "metadata": {},
   "outputs": [
    {
     "data": {
      "text/plain": [
       "([1, 2, 5, 6, 10], 5)"
      ]
     },
     "execution_count": 6,
     "metadata": {},
     "output_type": "execute_result"
    }
   ],
   "source": [
    "count_inversions([5,2,10,1,6])"
   ]
  }
 ],
 "metadata": {
  "kernelspec": {
   "display_name": "Python 3",
   "language": "python",
   "name": "python3"
  },
  "language_info": {
   "codemirror_mode": {
    "name": "ipython",
    "version": 3
   },
   "file_extension": ".py",
   "mimetype": "text/x-python",
   "name": "python",
   "nbconvert_exporter": "python",
   "pygments_lexer": "ipython3",
   "version": "3.7.4"
  }
 },
 "nbformat": 4,
 "nbformat_minor": 2
}
