{
 "cells": [
  {
   "cell_type": "markdown",
   "metadata": {},
   "source": [
    "link : https://www.cs.cmu.edu/~ckingsf/bioinfo-lectures/closepoints.pdf"
   ]
  },
  {
   "cell_type": "code",
   "execution_count": 2,
   "metadata": {},
   "outputs": [],
   "source": [
    "import numpy as np"
   ]
  },
  {
   "cell_type": "code",
   "execution_count": 3,
   "metadata": {},
   "outputs": [],
   "source": [
    "def dist(p1,p2):\n",
    "    '''Calculates the distance between 2 points p1 and p2.'''\n",
    "    return np.sqrt((p1[0]-p2[0])**2 + (p1[1] - p2[1])**2)"
   ]
  },
  {
   "cell_type": "code",
   "execution_count": 26,
   "metadata": {},
   "outputs": [],
   "source": [
    "def bruteforce(p):\n",
    "    '''if length of p is less than 3, this brute force function will be used: base case'''\n",
    "    min_dist = 1e99\n",
    "    for i in range(len(p)-1):\n",
    "        for j in range(i+1,len(p)):\n",
    "            if dist(p[i],p[j])<min_dist:\n",
    "                min_dist = dist(p[i],p[j])\n",
    "    return min_dist"
   ]
  },
  {
   "cell_type": "code",
   "execution_count": 27,
   "metadata": {},
   "outputs": [
    {
     "data": {
      "text/plain": [
       "1.4142135623730951"
      ]
     },
     "execution_count": 27,
     "metadata": {},
     "output_type": "execute_result"
    }
   ],
   "source": [
    "P = [[2, 3], [12, 30], [40, 50], [5, 1], [12, 10], [3, 4]]\n",
    "bruteforce(P)"
   ]
  },
  {
   "cell_type": "code",
   "execution_count": 28,
   "metadata": {},
   "outputs": [],
   "source": [
    "def ClosestPairSplit(Sy,delta):\n",
    "    '''Input: points of P with x coordinates within +-delta \n",
    "    sorted according to y coordinate'''\n",
    "    \n",
    "    lSy = len(Sy)\n",
    "    mini = delta\n",
    "    for i in range((lSy-1)):\n",
    "        for j in range(i+1,min(7,lSy)):\n",
    "            if dist(Sy[i],Sy[j])<mini:\n",
    "                mini = dist(Sy[i],Sy[j])\n",
    "    return mini"
   ]
  },
  {
   "cell_type": "code",
   "execution_count": 53,
   "metadata": {},
   "outputs": [],
   "source": [
    "def helperClosestPair(Px,Py):\n",
    "    if len(Px)<=3:\n",
    "        return bruteforce(Px)\n",
    "    \n",
    "    mid = int(len(Px)//2)\n",
    "    Qx = Px[:mid]\n",
    "    Rx = Px[mid:]\n",
    "    xmid = Px[mid-1][0]\n",
    "    Qy = []\n",
    "    Ry = []\n",
    "    \n",
    "    for i in range(len(Py)):\n",
    "        if Py[i][0]<=xmid and len(Qy)<mid:\n",
    "            Qy.append(Py[i])\n",
    "        else:\n",
    "            Ry.append(Py[i])\n",
    "            \n",
    "    dl = helperClosestPair(Qx,Qy)\n",
    "    dr = helperClosestPair(Rx,Ry)\n",
    "    \n",
    "    delta = min(dl,dr)\n",
    "    \n",
    "    Sy = []\n",
    "    for i in range(len(Py)):\n",
    "        if abs(Py[i][0]-xmid)<delta:\n",
    "            Sy.append(Py[i])\n",
    "        \n",
    "    return ClosestPairSplit(Sy,delta)"
   ]
  },
  {
   "cell_type": "code",
   "execution_count": 54,
   "metadata": {},
   "outputs": [],
   "source": [
    "def ClosestPair(P):\n",
    "    Px = sorted(P,key = lambda x:(x[0],x[1]))\n",
    "    Py = sorted(P,key = lambda x:(x[1],x[0]))\n",
    "    \n",
    "    return helperClosestPair(Px,Py)\n",
    "    "
   ]
  },
  {
   "cell_type": "code",
   "execution_count": 55,
   "metadata": {},
   "outputs": [
    {
     "data": {
      "text/plain": [
       "1.4142135623730951"
      ]
     },
     "execution_count": 55,
     "metadata": {},
     "output_type": "execute_result"
    }
   ],
   "source": [
    "ClosestPair(P)"
   ]
  },
  {
   "cell_type": "code",
   "execution_count": 67,
   "metadata": {},
   "outputs": [],
   "source": [
    "Phat = [[0,0], [-2,0], [4,0], [1,1], [-2,2],[2, 3], [12, 30], \n",
    "        [40, 50], [5, 1], [12, 10], [3, 4]]"
   ]
  },
  {
   "cell_type": "code",
   "execution_count": 68,
   "metadata": {},
   "outputs": [
    {
     "data": {
      "text/plain": [
       "1.4142135623730951"
      ]
     },
     "execution_count": 68,
     "metadata": {},
     "output_type": "execute_result"
    }
   ],
   "source": [
    "ClosestPair(Phat)"
   ]
  },
  {
   "cell_type": "code",
   "execution_count": 69,
   "metadata": {},
   "outputs": [
    {
     "data": {
      "text/plain": [
       "1.4142135623730951"
      ]
     },
     "execution_count": 69,
     "metadata": {},
     "output_type": "execute_result"
    }
   ],
   "source": [
    "bruteforce(Phat)"
   ]
  }
 ],
 "metadata": {
  "kernelspec": {
   "display_name": "Python 3",
   "language": "python",
   "name": "python3"
  },
  "language_info": {
   "codemirror_mode": {
    "name": "ipython",
    "version": 3
   },
   "file_extension": ".py",
   "mimetype": "text/x-python",
   "name": "python",
   "nbconvert_exporter": "python",
   "pygments_lexer": "ipython3",
   "version": "3.7.4"
  }
 },
 "nbformat": 4,
 "nbformat_minor": 2
}
