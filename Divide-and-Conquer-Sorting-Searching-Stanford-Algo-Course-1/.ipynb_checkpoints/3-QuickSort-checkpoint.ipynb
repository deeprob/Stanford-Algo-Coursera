{
 "cells": [
  {
   "cell_type": "code",
   "execution_count": 1,
   "metadata": {},
   "outputs": [],
   "source": [
    "import random"
   ]
  },
  {
   "cell_type": "code",
   "execution_count": 2,
   "metadata": {},
   "outputs": [],
   "source": [
    "def partition(A,start,stop):\n",
    "    i=start+1\n",
    "    j=start+1\n",
    "    while j<stop:\n",
    "        if A[start]<A[j]:\n",
    "            j+=1\n",
    "        else:\n",
    "            A[i],A[j] = A[j],A[i]\n",
    "            i+=1 \n",
    "            j+=1\n",
    "    A[start],A[i-1] = A[i-1],A[start]\n",
    "    return i-1"
   ]
  },
  {
   "cell_type": "code",
   "execution_count": 3,
   "metadata": {},
   "outputs": [],
   "source": [
    "def random_pivot(A,start,stop):\n",
    "    return random.randint(start,stop-1)"
   ]
  },
  {
   "cell_type": "code",
   "execution_count": 8,
   "metadata": {},
   "outputs": [],
   "source": [
    "def quicksort(A,start,stop):\n",
    "    global recursion\n",
    "    recursion += 1\n",
    "    if start<stop:\n",
    "        global inside\n",
    "        inside += 1\n",
    "        random_pivot_ind = random_pivot(A,start,stop)\n",
    "        A[random_pivot_ind],A[start] = A[start],A[random_pivot_ind]\n",
    "        parted_ind = partition(A,start,stop)\n",
    "        quicksort(A,start,parted_ind)\n",
    "        quicksort(A,parted_ind+1,stop)"
   ]
  },
  {
   "cell_type": "code",
   "execution_count": 15,
   "metadata": {},
   "outputs": [],
   "source": [
    "Array = [3,8,2,5,1,4,7,6]\n",
    "recursion = 0\n",
    "inside = 0\n",
    "quicksort(Array,0,len(Array))"
   ]
  },
  {
   "cell_type": "code",
   "execution_count": 16,
   "metadata": {},
   "outputs": [
    {
     "data": {
      "text/plain": [
       "([1, 2, 3, 4, 5, 6, 7, 8], 17, 8)"
      ]
     },
     "execution_count": 16,
     "metadata": {},
     "output_type": "execute_result"
    }
   ],
   "source": [
    "Array,recursion,inside"
   ]
  }
 ],
 "metadata": {
  "kernelspec": {
   "display_name": "Python 3",
   "language": "python",
   "name": "python3"
  },
  "language_info": {
   "codemirror_mode": {
    "name": "ipython",
    "version": 3
   },
   "file_extension": ".py",
   "mimetype": "text/x-python",
   "name": "python",
   "nbconvert_exporter": "python",
   "pygments_lexer": "ipython3",
   "version": "3.7.4"
  }
 },
 "nbformat": 4,
 "nbformat_minor": 2
}
