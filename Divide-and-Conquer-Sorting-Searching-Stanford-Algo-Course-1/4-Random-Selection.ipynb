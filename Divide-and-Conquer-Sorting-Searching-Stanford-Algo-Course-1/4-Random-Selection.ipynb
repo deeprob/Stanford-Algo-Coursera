{
 "cells": [
  {
   "cell_type": "code",
   "execution_count": 121,
   "metadata": {},
   "outputs": [],
   "source": [
    "import random"
   ]
  },
  {
   "cell_type": "code",
   "execution_count": 122,
   "metadata": {},
   "outputs": [],
   "source": [
    "def partition(A,start,end):\n",
    "    i=start+1\n",
    "    j=start+1\n",
    "    while j<end:\n",
    "        if A[start]<A[j]:\n",
    "            j+=1\n",
    "        else:\n",
    "            A[i],A[j] = A[j],A[i]\n",
    "            i+=1 \n",
    "            j+=1\n",
    "    A[start],A[i-1] = A[i-1],A[start]\n",
    "    return i-1"
   ]
  },
  {
   "cell_type": "code",
   "execution_count": 123,
   "metadata": {},
   "outputs": [],
   "source": [
    "def random_pivot(A,start,end):\n",
    "    return random.randint(start,end-1)"
   ]
  },
  {
   "cell_type": "code",
   "execution_count": 124,
   "metadata": {},
   "outputs": [],
   "source": [
    "def Rselect(A,ith,start,end):\n",
    "    global recursion\n",
    "    recursion += 1\n",
    "    if ith>len(A):\n",
    "        return \n",
    "    elif start>=end:\n",
    "        return \n",
    "    elif end-start==1:\n",
    "        return A[start]\n",
    "    else:\n",
    "        global inside\n",
    "        \n",
    "        inside += 1\n",
    "        random_pivot_ind = random_pivot(A,start,end)\n",
    "        A[random_pivot_ind],A[start] = A[start],A[random_pivot_ind]\n",
    "        parted_ind = partition(A,start,end)\n",
    "       \n",
    "        if parted_ind == ith-1:\n",
    "            return A[parted_ind]\n",
    "        elif parted_ind>ith-1:\n",
    "            return Rselect(A,ith,start,parted_ind)\n",
    "        else:\n",
    "            return Rselect(A,ith,parted_ind+1,end)"
   ]
  },
  {
   "cell_type": "code",
   "execution_count": 125,
   "metadata": {},
   "outputs": [
    {
     "data": {
      "text/plain": [
       "8"
      ]
     },
     "execution_count": 125,
     "metadata": {},
     "output_type": "execute_result"
    }
   ],
   "source": [
    "Array = [3,8,2,5,1,4,7,6]\n",
    "recursion = 0\n",
    "inside = 0\n",
    "Rselect(Array,8,0,len(Array))"
   ]
  },
  {
   "cell_type": "code",
   "execution_count": 126,
   "metadata": {},
   "outputs": [
    {
     "data": {
      "text/plain": [
       "([1, 2, 3, 6, 4, 5, 7, 8], 3, 2)"
      ]
     },
     "execution_count": 126,
     "metadata": {},
     "output_type": "execute_result"
    }
   ],
   "source": [
    "Array,recursion,inside"
   ]
  }
 ],
 "metadata": {
  "kernelspec": {
   "display_name": "Python 3",
   "language": "python",
   "name": "python3"
  },
  "language_info": {
   "codemirror_mode": {
    "name": "ipython",
    "version": 3
   },
   "file_extension": ".py",
   "mimetype": "text/x-python",
   "name": "python",
   "nbconvert_exporter": "python",
   "pygments_lexer": "ipython3",
   "version": "3.7.4"
  }
 },
 "nbformat": 4,
 "nbformat_minor": 2
}
