{
 "cells": [
  {
   "cell_type": "markdown",
   "metadata": {},
   "source": [
    "# Linked List\n",
    "\n",
    "From geeks for geeks with little modifications"
   ]
  },
  {
   "cell_type": "code",
   "execution_count": 14,
   "metadata": {},
   "outputs": [],
   "source": [
    "class AdjNode: \n",
    "    def __init__(self, data): \n",
    "        self.vertex = data \n",
    "        self.next = None\n",
    "\n",
    "def add_node(source,dest):\n",
    "    '''New Function to be added'''\n",
    "    if source:\n",
    "        head = source\n",
    "        temp = head\n",
    "        while temp.next:\n",
    "            temp = temp.next\n",
    "        temp.next = dest\n",
    "        return head\n",
    "    else:\n",
    "        return dest\n",
    "\n",
    "\n",
    "class Graph: \n",
    "    def __init__(self, vertices): \n",
    "        self.V = vertices \n",
    "        self.graph = [None] * self.V \n",
    "  \n",
    "    # Function to add an edge in an undirected graph \n",
    "    def add_edge(self, src, dest): \n",
    "        # Adding the node to the source node \n",
    "        node = AdjNode(dest) \n",
    "        self.graph[src] = add_node(self.graph[src],node) \n",
    "  \n",
    "        # Adding the source node to the destination as \n",
    "        # it is the undirected graph \n",
    "        node = AdjNode(src) \n",
    "        self.graph[dest] = add_node(self.graph[dest],node) \n",
    "  \n",
    "    # Function to print the graph \n",
    "    def print_graph(self): \n",
    "        for i in range(self.V): \n",
    "            print(\"Adjacency list of vertex {}\\n head\".format(i), end=\"\") \n",
    "            temp = self.graph[i] \n",
    "            while temp: \n",
    "                print(\" -> {}\".format(temp.vertex), end=\"\") \n",
    "                temp = temp.next\n",
    "            print(\" \\n\") "
   ]
  },
  {
   "cell_type": "code",
   "execution_count": 29,
   "metadata": {},
   "outputs": [
    {
     "name": "stdout",
     "output_type": "stream",
     "text": [
      "Adjacency list of vertex 0\n",
      " head -> 1 -> 4 \n",
      "\n",
      "Adjacency list of vertex 1\n",
      " head -> 0 -> 2 -> 3 -> 4 \n",
      "\n",
      "Adjacency list of vertex 2\n",
      " head -> 1 -> 3 \n",
      "\n",
      "Adjacency list of vertex 3\n",
      " head -> 1 -> 2 -> 4 \n",
      "\n",
      "Adjacency list of vertex 4\n",
      " head -> 0 -> 1 -> 3 \n",
      "\n"
     ]
    }
   ],
   "source": [
    "V = 5\n",
    "graph = Graph(V) \n",
    "graph.add_edge(0, 1) \n",
    "graph.add_edge(0, 4) \n",
    "graph.add_edge(1, 2) \n",
    "graph.add_edge(1, 3) \n",
    "graph.add_edge(1, 4) \n",
    "graph.add_edge(2, 3) \n",
    "graph.add_edge(3, 4) \n",
    "\n",
    "graph.print_graph() "
   ]
  },
  {
   "cell_type": "markdown",
   "metadata": {},
   "source": [
    "# Pythonic way"
   ]
  },
  {
   "cell_type": "code",
   "execution_count": 60,
   "metadata": {},
   "outputs": [],
   "source": [
    "class myGraph:\n",
    "    def __init__(self,graph=dict()):\n",
    "        self.graph = graph\n",
    "        \n",
    "    def add_edge(self,src,dest):\n",
    "        if src in self.graph:\n",
    "            self.graph[src].append(dest)\n",
    "        else:\n",
    "            self.graph[src] = [dest]\n",
    "        if dest in self.graph:\n",
    "            self.graph[dest].append(src)\n",
    "        else:\n",
    "            self.graph[dest] = [src]\n",
    "\n",
    "    \n",
    "    def print_graph(self):\n",
    "        for head,neighbour_list in sorted(self.graph.items(),key=lambda x:x[0]):\n",
    "            print(f'Adjacency list of vertex {head}')\n",
    "            neighbour_representation = ' --> '.join(map(str,neighbour_list))\n",
    "            print('head --> '+neighbour_representation)\n",
    "            print('\\n')"
   ]
  },
  {
   "cell_type": "code",
   "execution_count": 61,
   "metadata": {},
   "outputs": [],
   "source": [
    "graph = myGraph() \n",
    "graph.add_edge(0, 1) \n",
    "graph.add_edge(0, 4) \n",
    "graph.add_edge(1, 2) \n",
    "graph.add_edge(1, 3) \n",
    "graph.add_edge(1, 4) \n",
    "graph.add_edge(2, 3) \n",
    "graph.add_edge(3, 4) "
   ]
  },
  {
   "cell_type": "code",
   "execution_count": 62,
   "metadata": {},
   "outputs": [
    {
     "name": "stdout",
     "output_type": "stream",
     "text": [
      "Adjacency list of vertex 0\n",
      "head --> 1 --> 4\n",
      "\n",
      "\n",
      "Adjacency list of vertex 1\n",
      "head --> 0 --> 2 --> 3 --> 4\n",
      "\n",
      "\n",
      "Adjacency list of vertex 2\n",
      "head --> 1 --> 3\n",
      "\n",
      "\n",
      "Adjacency list of vertex 3\n",
      "head --> 1 --> 2 --> 4\n",
      "\n",
      "\n",
      "Adjacency list of vertex 4\n",
      "head --> 0 --> 1 --> 3\n",
      "\n",
      "\n"
     ]
    }
   ],
   "source": [
    "graph.print_graph() "
   ]
  },
  {
   "cell_type": "code",
   "execution_count": null,
   "metadata": {},
   "outputs": [],
   "source": []
  }
 ],
 "metadata": {
  "kernelspec": {
   "display_name": "Python 3",
   "language": "python",
   "name": "python3"
  },
  "language_info": {
   "codemirror_mode": {
    "name": "ipython",
    "version": 3
   },
   "file_extension": ".py",
   "mimetype": "text/x-python",
   "name": "python",
   "nbconvert_exporter": "python",
   "pygments_lexer": "ipython3",
   "version": "3.7.4"
  }
 },
 "nbformat": 4,
 "nbformat_minor": 2
}
