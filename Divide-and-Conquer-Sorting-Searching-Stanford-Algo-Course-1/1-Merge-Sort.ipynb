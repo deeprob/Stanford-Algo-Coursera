{
 "cells": [
  {
   "cell_type": "code",
   "execution_count": 9,
   "metadata": {},
   "outputs": [],
   "source": [
    "def merge(A,B):\n",
    "    '''A and B are lists. returns a new list C in sorted order'''\n",
    "    ai = 0\n",
    "    bi = 0\n",
    "    \n",
    "    C = []\n",
    "    while ai<len(A) and bi<len(B):\n",
    "        if A[ai]<B[bi]:\n",
    "            C.append(A[ai])\n",
    "            ai+=1\n",
    "        else:\n",
    "            C.append(B[bi])\n",
    "            bi+=1\n",
    "\n",
    "    if A[ai:]:\n",
    "        C.extend(A[ai:]) \n",
    "    \n",
    "    if B[bi:]:\n",
    "        C.extend(B[bi:])\n",
    "    \n",
    "    return C"
   ]
  },
  {
   "cell_type": "code",
   "execution_count": 20,
   "metadata": {},
   "outputs": [
    {
     "data": {
      "text/plain": [
       "[1, 4, 6, 28, 30, 53, 92, 700]"
      ]
     },
     "execution_count": 20,
     "metadata": {},
     "output_type": "execute_result"
    }
   ],
   "source": [
    "def merge_sort(A):\n",
    "    '''Input is an Array A. Output, sorted array'''\n",
    "    if len(A) == 1:\n",
    "        return A\n",
    "    \n",
    "    else:\n",
    "        mid = int(len(A)//2)\n",
    "        lA = A[:mid]\n",
    "        rA = A[mid:]\n",
    "        slA = merge_sort(lA)\n",
    "        srA = merge_sort(rA)\n",
    "        return merge(slA,srA)\n",
    "\n",
    "merge_sort([700,30,53,28,4,6,1,92])"
   ]
  }
 ],
 "metadata": {
  "kernelspec": {
   "display_name": "Python 3",
   "language": "python",
   "name": "python3"
  },
  "language_info": {
   "codemirror_mode": {
    "name": "ipython",
    "version": 3
   },
   "file_extension": ".py",
   "mimetype": "text/x-python",
   "name": "python",
   "nbconvert_exporter": "python",
   "pygments_lexer": "ipython3",
   "version": "3.7.4"
  }
 },
 "nbformat": 4,
 "nbformat_minor": 2
}
