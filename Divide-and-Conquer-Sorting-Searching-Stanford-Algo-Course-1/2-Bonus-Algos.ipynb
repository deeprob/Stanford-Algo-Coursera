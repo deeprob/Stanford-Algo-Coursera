{
 "cells": [
  {
   "cell_type": "markdown",
   "metadata": {},
   "source": [
    "1. You are given as input an unsorted array of n distinct numbers, where n is a power of 2. Give an algorithm that identifies the second-largest number in the array, and that uses at most $n+\\log⁡_2 n − 2$ comparisons."
   ]
  },
  {
   "cell_type": "code",
   "execution_count": 19,
   "metadata": {},
   "outputs": [
    {
     "data": {
      "text/plain": [
       "886"
      ]
     },
     "execution_count": 19,
     "metadata": {},
     "output_type": "execute_result"
    }
   ],
   "source": [
    "def find_2nd_max(array,mydict):\n",
    "    if len(array)==2:\n",
    "        if array[0]>array[1]:\n",
    "            try:\n",
    "                mydict[array[0]].append(array[1])\n",
    "            except:\n",
    "                mydict[array[0]] = [array[1]]\n",
    "            return max(mydict[array[0]])\n",
    "        else:\n",
    "            try:\n",
    "                mydict[array[1]].append(array[0])\n",
    "            except:\n",
    "                mydict[array[1]] = [array[0]]\n",
    "            return max(mydict[array[1]])\n",
    "\n",
    "        \n",
    "    else:\n",
    "        maxis = []\n",
    "        for i in range(0,len(array)-1,2):\n",
    "            if array[i]>array[i+1]:\n",
    "                maxis.append(array[i])\n",
    "                try:\n",
    "                    mydict[array[i]].append(array[i+1])\n",
    "                except:\n",
    "                    mydict[array[i]] = [array[i+1]]\n",
    "            else:\n",
    "                maxis.append(array[i+1])\n",
    "                try:\n",
    "                    mydict[array[i+1]].append(array[i])\n",
    "                except:\n",
    "                    mydict[array[i+1]] = [array[i]]\n",
    "        return find_2nd_max(maxis,mydict)\n",
    "\n",
    "find_2nd_max([99,83,143,546,879,886,43,4449,129],{})\n",
    "        "
   ]
  },
  {
   "cell_type": "markdown",
   "metadata": {},
   "source": [
    "2. You are a given a unimodal array of n distinct elements, meaning that its entries are in increasing order up until its maximum element, after which its elements are in decreasing order. Give an algorithm to compute the maximum element that runs in O(log n) time."
   ]
  },
  {
   "cell_type": "code",
   "execution_count": 34,
   "metadata": {},
   "outputs": [
    {
     "data": {
      "text/plain": [
       "1500"
      ]
     },
     "execution_count": 34,
     "metadata": {},
     "output_type": "execute_result"
    }
   ],
   "source": [
    "def max_unimodal(array):\n",
    "    if len(array)<3:\n",
    "        return max(array)\n",
    "    \n",
    "    else:\n",
    "        pos = len(array)//2\n",
    "        if array[pos]>array[pos+1] and array[pos]>array[pos-1]:\n",
    "            return array[pos]\n",
    "        elif array[pos-1]<array[pos] and array[pos]<array[pos+1]:\n",
    "            return max_unimodal(array[pos:])\n",
    "        elif array[pos-1]>array[pos] and array[pos]>array[pos+1]:\n",
    "            return max_unimodal(array[:pos+1])\n",
    "\n",
    "max_unimodal([1,2,3,4,5,67,99,101,120,150,1500,1200,400,350,300,299,270,70,7,5,4,3,2,1])"
   ]
  },
  {
   "cell_type": "markdown",
   "metadata": {},
   "source": [
    "3. You are given a sorted (from smallest to largest) array A of n distinct integers which can be positive, negative, or zero. You want to decide whether or not there is an index i such that A[i] = i. Design the fastest algorithm that you can for solving this problem."
   ]
  },
  {
   "cell_type": "code",
   "execution_count": 54,
   "metadata": {},
   "outputs": [],
   "source": [
    "def find_index(array,start,end):\n",
    "    #base case\n",
    "    if (end-start)==1:\n",
    "        if array[start] == start:\n",
    "            return array[start]\n",
    "        elif array[end] ==end:\n",
    "                return array[end]\n",
    "        else:\n",
    "            print('Not there')\n",
    "            return\n",
    "    else:\n",
    "        pos = (start+end)//2\n",
    "        if array[pos]==pos:\n",
    "            return array[pos]\n",
    "        else:\n",
    "            if array[pos]>pos:\n",
    "                return find_index(array,start,pos)\n",
    "            else:\n",
    "                return find_index(array,pos,end)\n",
    "            \n",
    "        "
   ]
  },
  {
   "cell_type": "code",
   "execution_count": 55,
   "metadata": {},
   "outputs": [
    {
     "name": "stdout",
     "output_type": "stream",
     "text": [
      "Not there\n"
     ]
    }
   ],
   "source": [
    "A = [-1,0,3,4,5,6]\n",
    "find_index(A,0,len(A))"
   ]
  },
  {
   "cell_type": "code",
   "execution_count": 56,
   "metadata": {},
   "outputs": [
    {
     "data": {
      "text/plain": [
       "3"
      ]
     },
     "execution_count": 56,
     "metadata": {},
     "output_type": "execute_result"
    }
   ],
   "source": [
    "A = [-3,-1,0,3]\n",
    "find_index(A,0,len(A))"
   ]
  },
  {
   "cell_type": "code",
   "execution_count": 57,
   "metadata": {},
   "outputs": [
    {
     "data": {
      "text/plain": [
       "0"
      ]
     },
     "execution_count": 57,
     "metadata": {},
     "output_type": "execute_result"
    }
   ],
   "source": [
    "A = [0,2,4,77,98,101]\n",
    "find_index(A,0,len(A))"
   ]
  },
  {
   "cell_type": "code",
   "execution_count": 58,
   "metadata": {},
   "outputs": [
    {
     "data": {
      "text/plain": [
       "5"
      ]
     },
     "execution_count": 58,
     "metadata": {},
     "output_type": "execute_result"
    }
   ],
   "source": [
    "A = [-99,-67,-3,-1,0,5,67,99,102,898]\n",
    "find_index(A,0,len(A))"
   ]
  },
  {
   "cell_type": "markdown",
   "metadata": {},
   "source": [
    "4. You are given an n by n grid of distinct numbers. A number is a local minimum if it is smaller than all of its neighbors. (A neighbor of a number is one immediately above, below, to the left, or the right. Most numbers have four neighbors; numbers on the side have three; the four corners have two.) Use the divide-and-conquer algorithm design paradigm to compute a local minimum with only O(n) comparisons between pairs of numbers. (Note: since there are $n^2$ numbers in the input, you cannot afford to look at all of them. Hint: Think about what types of recurrences would give you the desired upper bound.)"
   ]
  },
  {
   "cell_type": "code",
   "execution_count": null,
   "metadata": {},
   "outputs": [],
   "source": []
  }
 ],
 "metadata": {
  "kernelspec": {
   "display_name": "Python 3",
   "language": "python",
   "name": "python3"
  },
  "language_info": {
   "codemirror_mode": {
    "name": "ipython",
    "version": 3
   },
   "file_extension": ".py",
   "mimetype": "text/x-python",
   "name": "python",
   "nbconvert_exporter": "python",
   "pygments_lexer": "ipython3",
   "version": "3.7.4"
  }
 },
 "nbformat": 4,
 "nbformat_minor": 2
}
