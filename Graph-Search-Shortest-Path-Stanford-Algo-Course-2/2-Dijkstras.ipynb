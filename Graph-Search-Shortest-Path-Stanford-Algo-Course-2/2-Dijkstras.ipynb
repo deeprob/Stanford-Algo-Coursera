{
 "cells": [
  {
   "cell_type": "code",
   "execution_count": 1,
   "metadata": {},
   "outputs": [],
   "source": [
    "graph = {'s':[('v',1),('w',4)],\n",
    "        'v':[('w',2),('t',6)],\n",
    "        'w':[('t',3)],\n",
    "        't':[]}"
   ]
  },
  {
   "cell_type": "code",
   "execution_count": 2,
   "metadata": {},
   "outputs": [],
   "source": [
    "def djikstra(graph,source):\n",
    "    '''naive approach'''\n",
    "    shortest_dist = dict(zip(list(graph.keys()),[1e9 for i in range(len(graph))]))\n",
    "    shortest_dist[source] = 0\n",
    "    X = set()\n",
    "\n",
    "\n",
    "    while True:\n",
    "        min_dist_vertex = None\n",
    "        shortest = 1e10\n",
    "        for key,value in shortest_dist.items():\n",
    "            if key not in X and value<shortest:\n",
    "                min_dist_vertex = key\n",
    "                shortest = value\n",
    "                \n",
    "        \n",
    "        X.add(min_dist_vertex)\n",
    "        \n",
    "    \n",
    "        for edges in graph[min_dist_vertex]:\n",
    "            target = edges[0]\n",
    "            path = edges[1] + shortest_dist[min_dist_vertex]\n",
    "            if path<(shortest_dist[target]): \n",
    "                shortest_dist[target] = path\n",
    "\n",
    "        if len(X) == len(graph):\n",
    "            break\n",
    "    return shortest_dist"
   ]
  },
  {
   "cell_type": "code",
   "execution_count": 3,
   "metadata": {},
   "outputs": [
    {
     "data": {
      "text/plain": [
       "{'s': 0, 'v': 1, 'w': 3, 't': 6}"
      ]
     },
     "execution_count": 3,
     "metadata": {},
     "output_type": "execute_result"
    }
   ],
   "source": [
    "djikstra(graph,'s')"
   ]
  },
  {
   "cell_type": "code",
   "execution_count": 4,
   "metadata": {},
   "outputs": [],
   "source": [
    "g =  {0:[(1,4),(7,8)],\n",
    "      1:[(2,8),(7,11)],\n",
    "      2:[(3,7),(5,4),(8,2)],\n",
    "      3:[(4,9),(5,14)],\n",
    "      4:[],\n",
    "      5:[(4,10)],\n",
    "      6:[(5,2)],\n",
    "      7:[(8,7),(6,1)],\n",
    "      8:[(6,6)]}"
   ]
  },
  {
   "cell_type": "code",
   "execution_count": 5,
   "metadata": {},
   "outputs": [
    {
     "data": {
      "text/plain": [
       "{0: 0, 1: 4, 2: 12, 3: 19, 4: 21, 5: 11, 6: 9, 7: 8, 8: 14}"
      ]
     },
     "execution_count": 5,
     "metadata": {},
     "output_type": "execute_result"
    }
   ],
   "source": [
    "djikstra(g,0)"
   ]
  },
  {
   "cell_type": "code",
   "execution_count": 42,
   "metadata": {},
   "outputs": [],
   "source": [
    "class Heap:\n",
    "    def __init__(self,L):\n",
    "        '''L is either a single element list or a tupled list\n",
    "        Note: Tuple comparisons work normally, no need to treat them\n",
    "        as a separate case'''\n",
    "        self.heap = []\n",
    "        self.heapify(L)\n",
    "            \n",
    "\n",
    "            \n",
    "            \n",
    "    def __bubble_up_helper(self,idx,parent_idx):\n",
    "        self.heap[idx],self.heap[parent_idx] = self.heap[parent_idx],self.heap[idx]\n",
    "        return \n",
    "    \n",
    "    def _bubble_up(self,idx):\n",
    "        if idx>0:\n",
    "            parent_idx = self.__get_parent_idx(idx)\n",
    "            if self.heap[idx]<=self.heap[parent_idx]:\n",
    "                self.__bubble_up_helper(idx,parent_idx)\n",
    "                return self._bubble_up(parent_idx)\n",
    "                \n",
    "            \n",
    "    \n",
    "    \n",
    "    def __get_parent_idx(self,idx):\n",
    "        if idx%2==0:\n",
    "            parent_idx = int(idx/2) - 1\n",
    "        else:\n",
    "            parent_idx = int(idx//2)\n",
    "        return parent_idx\n",
    "\n",
    "\n",
    "    def insert(self,ele):\n",
    "\n",
    "        self.heap.append(ele)\n",
    "        idx = len(self.heap)-1\n",
    "\n",
    "        self._bubble_up(idx)\n",
    "\n",
    "        return \n",
    "    \n",
    "    def heapify(self,arr):\n",
    "        for ele in arr:\n",
    "            self.insert(ele)\n",
    "        return\n",
    "    \n",
    "    def __bubble_down_helper(self,idx,min_child_idx):\n",
    "        self.heap[idx],self.heap[min_child_idx] = self.heap[min_child_idx],self.heap[idx]\n",
    "        return\n",
    "    \n",
    "    \n",
    "    def _bubble_down(self,idx):\n",
    "        child_idx = self.__get_min_child_idx(self.heap,idx)\n",
    "        if child_idx:\n",
    "\n",
    "            if self.heap[idx]>self.heap[child_idx]:\n",
    "                self.__bubble_down_helper(idx,child_idx)\n",
    "                return self._bubble_down(child_idx)\n",
    "\n",
    "                \n",
    "\n",
    "    def __get_min_child_idx(self,arr,idx):\n",
    "        larr = len(arr)\n",
    "        if larr>(2*idx+2):\n",
    "            if arr[2*idx+1]<arr[2*idx+2]:\n",
    "                return 2*idx+1\n",
    "            else:\n",
    "                return 2*idx+2\n",
    "        elif larr>(2*idx+1):\n",
    "            return 2*idx+1\n",
    "        else:\n",
    "            return\n",
    "\n",
    "\n",
    "    def extract_min(self):\n",
    "        if self.heap:\n",
    "\n",
    "            mini = self.heap[0]\n",
    "\n",
    "            self.heap[0] = self.heap[-1]\n",
    "            del self.heap[-1]\n",
    "\n",
    "            idx = 0\n",
    "            \n",
    "            self._bubble_down(idx)\n",
    "            return mini \n",
    "    \n",
    "    def delete_element(self,idx):\n",
    "        #step 1 replace the element with the last element of the heap\n",
    "        if idx!=(len(self.heap)-1):\n",
    "            self.heap[idx],self.heap[len(self.heap)-1] = self.heap[len(self.heap)-1],self.heap[idx]\n",
    "            del self.heap[-1]\n",
    "        \n",
    "        \n",
    "        # either bubble up\n",
    "        self._bubble_up(idx)\n",
    "            \n",
    "        # or bubble down\n",
    "        self._bubble_down(idx)\n",
    "                \n",
    "        return"
   ]
  },
  {
   "cell_type": "code",
   "execution_count": 48,
   "metadata": {},
   "outputs": [],
   "source": [
    "def djikstra_fast(graph,source):\n",
    "    \n",
    "    shortest_dist = dict(zip(list(graph.keys()),[1e9 for i in range(len(graph))]))\n",
    "    shortest_dist[source] = 0\n",
    "    pq = Heap([(v,k) for k,v in shortest_dist.items()])\n",
    "    while pq.heap:\n",
    "        #get the vertex with the shortest distance\n",
    "        min_dist_vertex = pq.extract_min()[1]\n",
    "        for edges in graph[min_dist_vertex]:\n",
    "            target = edges[0]\n",
    "            path = edges[1] + shortest_dist[min_dist_vertex]\n",
    "            if path<(shortest_dist[target]):\n",
    "                old_path = shortest_dist[target]\n",
    "                old_key = target\n",
    "                try:\n",
    "                    idx = pq.heap.index((old_path,old_key))\n",
    "                    pq.delete_element(idx)\n",
    "                    pq.insert((path,old_key))\n",
    "                except:\n",
    "                    continue\n",
    "                shortest_dist[target] = path\n",
    "    \n",
    "    return shortest_dist"
   ]
  },
  {
   "cell_type": "code",
   "execution_count": 50,
   "metadata": {},
   "outputs": [
    {
     "data": {
      "text/plain": [
       "{0: 0, 1: 4, 2: 12, 3: 19, 4: 21, 5: 11, 6: 9, 7: 8, 8: 14}"
      ]
     },
     "execution_count": 50,
     "metadata": {},
     "output_type": "execute_result"
    }
   ],
   "source": [
    "djikstra_fast(g,0)"
   ]
  },
  {
   "cell_type": "code",
   "execution_count": 53,
   "metadata": {},
   "outputs": [],
   "source": [
    "ng = {'s':[('a',3),('c',2),('f',6)],\n",
    "     'a':[('b',6),('d',1)],\n",
    "     'b':[('e',1)],\n",
    "     'c':[('a',2),('d',3)],\n",
    "     'd':[('e',4)],\n",
    "      'e':[],\n",
    "     'f':[('e',2)]}"
   ]
  },
  {
   "cell_type": "code",
   "execution_count": 54,
   "metadata": {},
   "outputs": [
    {
     "data": {
      "text/plain": [
       "{'s': 0, 'a': 3, 'b': 9, 'c': 2, 'd': 4, 'e': 8, 'f': 6}"
      ]
     },
     "execution_count": 54,
     "metadata": {},
     "output_type": "execute_result"
    }
   ],
   "source": [
    "djikstra_fast(ng,'s')"
   ]
  },
  {
   "cell_type": "code",
   "execution_count": 55,
   "metadata": {},
   "outputs": [
    {
     "data": {
      "text/plain": [
       "{'s': 0, 'a': 3, 'b': 9, 'c': 2, 'd': 4, 'e': 8, 'f': 6}"
      ]
     },
     "execution_count": 55,
     "metadata": {},
     "output_type": "execute_result"
    }
   ],
   "source": [
    "djikstra(ng,'s')"
   ]
  }
 ],
 "metadata": {
  "kernelspec": {
   "display_name": "Python 3",
   "language": "python",
   "name": "python3"
  },
  "language_info": {
   "codemirror_mode": {
    "name": "ipython",
    "version": 3
   },
   "file_extension": ".py",
   "mimetype": "text/x-python",
   "name": "python",
   "nbconvert_exporter": "python",
   "pygments_lexer": "ipython3",
   "version": "3.7.4"
  }
 },
 "nbformat": 4,
 "nbformat_minor": 2
}
