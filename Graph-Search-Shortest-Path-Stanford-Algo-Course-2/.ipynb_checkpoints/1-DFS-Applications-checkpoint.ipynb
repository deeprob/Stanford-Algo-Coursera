{
 "cells": [
  {
   "cell_type": "code",
   "execution_count": 3,
   "metadata": {},
   "outputs": [],
   "source": [
    "#directed graph\n",
    "graph = {\n",
    "  'A' : ['B','C'],\n",
    "  'B' : ['D', 'E'],\n",
    "  'C' : ['F'],\n",
    "  'D' : [],\n",
    "  'E' : ['F'],\n",
    "  'F' : []\n",
    "}"
   ]
  },
  {
   "cell_type": "code",
   "execution_count": 5,
   "metadata": {},
   "outputs": [],
   "source": [
    "from collections import deque"
   ]
  },
  {
   "cell_type": "code",
   "execution_count": 6,
   "metadata": {},
   "outputs": [],
   "source": [
    "def DFS(g,start):\n",
    "    \n",
    "    #mark start as explored\n",
    "    explored = set([start])\n",
    "    s = deque()\n",
    "    s.append(start) #stack initialized with start\n",
    "    \n",
    "    while s:\n",
    "        print(s)\n",
    "        v = s.pop() #remove the last node\n",
    "        for node in g[v]: #check all edges \n",
    "            if node not in explored: #if edge not explored\n",
    "                explored.add(node) #add edge to explored\n",
    "                s.append(node) #add node to s\n",
    "    \n",
    "    return explored"
   ]
  },
  {
   "cell_type": "code",
   "execution_count": 7,
   "metadata": {},
   "outputs": [
    {
     "name": "stdout",
     "output_type": "stream",
     "text": [
      "deque(['A'])\n",
      "deque(['B', 'C'])\n",
      "deque(['B', 'F'])\n",
      "deque(['B'])\n",
      "deque(['D', 'E'])\n",
      "deque(['D'])\n"
     ]
    },
    {
     "data": {
      "text/plain": [
       "{'A', 'B', 'C', 'D', 'E', 'F'}"
      ]
     },
     "execution_count": 7,
     "metadata": {},
     "output_type": "execute_result"
    }
   ],
   "source": [
    "DFS(graph,'A')"
   ]
  },
  {
   "cell_type": "code",
   "execution_count": 16,
   "metadata": {},
   "outputs": [],
   "source": [
    "def DFS_2(g,start):\n",
    "    explored = set()\n",
    "    def DFSrecursive(g,s):\n",
    "        nonlocal explored\n",
    "        print(explored)\n",
    "        explored.add(s)\n",
    "        for node in g[s]:\n",
    "            if node not in explored:\n",
    "                DFSrecursive(g,node)\n",
    "    DFSrecursive(g,start)\n",
    "    return explored"
   ]
  },
  {
   "cell_type": "code",
   "execution_count": 17,
   "metadata": {},
   "outputs": [
    {
     "name": "stdout",
     "output_type": "stream",
     "text": [
      "set()\n",
      "{'A'}\n",
      "{'A', 'B'}\n",
      "{'A', 'B', 'D'}\n",
      "{'A', 'B', 'D', 'E'}\n",
      "{'A', 'B', 'F', 'D', 'E'}\n"
     ]
    },
    {
     "data": {
      "text/plain": [
       "{'A', 'B', 'C', 'D', 'E', 'F'}"
      ]
     },
     "execution_count": 17,
     "metadata": {},
     "output_type": "execute_result"
    }
   ],
   "source": [
    "DFS_2(graph,'A')"
   ]
  },
  {
   "cell_type": "code",
   "execution_count": 4,
   "metadata": {},
   "outputs": [],
   "source": [
    "def DFS_topological_sort(G):\n",
    "    explored = dict()\n",
    "    current_label = len(G)\n",
    "    \n",
    "    def DFSrecursive(G,s):\n",
    "        nonlocal explored\n",
    "        explored[s] = None\n",
    "        for node in G[s]:\n",
    "            if node not in explored:\n",
    "                DFSrecursive(G,node)\n",
    "        nonlocal current_label \n",
    "        explored[s] = current_label\n",
    "        current_label -= 1\n",
    "    \n",
    "    for n in G.keys():\n",
    "        if n not in explored:\n",
    "            DFSrecursive(G,n)\n",
    "    \n",
    "    return explored\n",
    "    "
   ]
  },
  {
   "cell_type": "code",
   "execution_count": 5,
   "metadata": {},
   "outputs": [
    {
     "data": {
      "text/plain": [
       "{'A': 1, 'B': 3, 'D': 6, 'E': 4, 'F': 5, 'C': 2}"
      ]
     },
     "execution_count": 5,
     "metadata": {},
     "output_type": "execute_result"
    }
   ],
   "source": [
    "DFS_topological_sort(graph)"
   ]
  },
  {
   "cell_type": "code",
   "execution_count": 2,
   "metadata": {},
   "outputs": [],
   "source": [
    "another_graph = {'s':['v','w'],\n",
    "                'v':['t'],\n",
    "                'w':['t'],\n",
    "                't':[]}"
   ]
  },
  {
   "cell_type": "code",
   "execution_count": 9,
   "metadata": {},
   "outputs": [
    {
     "data": {
      "text/plain": [
       "{'s': 1, 'v': 3, 't': 4, 'w': 2}"
      ]
     },
     "execution_count": 9,
     "metadata": {},
     "output_type": "execute_result"
    }
   ],
   "source": [
    "DFS_topological_sort(another_graph)"
   ]
  },
  {
   "cell_type": "code",
   "execution_count": 1,
   "metadata": {},
   "outputs": [],
   "source": [
    "def transposeGraph(G):\n",
    "    Gt = {k:[] for k in G.keys()}\n",
    "    for node in G.keys():\n",
    "        for edge in G[node]:\n",
    "            Gt[edge].append(node)\n",
    "    return Gt    "
   ]
  },
  {
   "cell_type": "code",
   "execution_count": 17,
   "metadata": {},
   "outputs": [],
   "source": [
    "gr_t = {1:[7],\n",
    "      2:[5],\n",
    "      3:[9],\n",
    "      4:[1],\n",
    "      5:[8],\n",
    "      6:[3,8],\n",
    "      7:[4,9],\n",
    "      8:[2],\n",
    "      9:[6]}\n",
    "\n",
    "gr = transposeGraph(gr_t)"
   ]
  },
  {
   "cell_type": "code",
   "execution_count": 16,
   "metadata": {},
   "outputs": [],
   "source": [
    "def DFSLoop(G):\n",
    "    t = 0\n",
    "    leader = None\n",
    "    explored = dict()\n",
    "    leader_dict = dict()\n",
    "\n",
    "    def DFSrecursive(G,start):\n",
    "        nonlocal explored\n",
    "        explored[start] = None\n",
    "        nonlocal leader_dict\n",
    "        nonlocal leader\n",
    "        leader_dict[start] = leader\n",
    "        \n",
    "        for node in G[start]:\n",
    "            if node not in explored:\n",
    "                DFSrecursive(G,node)\n",
    "                \n",
    "        nonlocal t\n",
    "        t+=1\n",
    "        \n",
    "        explored[start] = t\n",
    "        \n",
    "    \n",
    "    for i in range(len(G),0,-1):\n",
    "        if i not in explored:\n",
    "            leader = i\n",
    "            DFSrecursive(G,i)\n",
    "    \n",
    "    return explored,leader_dict\n",
    "\n",
    "        "
   ]
  },
  {
   "cell_type": "code",
   "execution_count": 20,
   "metadata": {},
   "outputs": [],
   "source": [
    "def computeSCC(G):\n",
    "    \n",
    "    #step 1 transpose graph\n",
    "    gr_t = transposeGraph(G)\n",
    "        \n",
    "    #Step 2 run DFS-Loop on gr_t to get finishing times \n",
    "    time_dict = DFSLoop(gr_t)[0]\n",
    "    \n",
    "    #Step 3 run DFS-Loop on gr_transformed according to their \n",
    "    # finishing times to get leader_dict\n",
    "    gr_transformed = {time_dict[key]:[time_dict[v] for v in value]\n",
    "                  for key,value in G.items()}\n",
    "    leaders = DFSLoop(gr_transformed)[1]\n",
    "    tt = {v:k for k,v in time_dict.items()}\n",
    "    #get proper leader names\n",
    "    lt = {tt[k]:tt[v] for k,v in leaders.items()}\n",
    "    return lt\n",
    "    "
   ]
  },
  {
   "cell_type": "code",
   "execution_count": 21,
   "metadata": {},
   "outputs": [
    {
     "data": {
      "text/plain": [
       "{7: 7, 1: 7, 4: 7, 9: 9, 3: 9, 6: 9, 8: 8, 5: 8, 2: 8}"
      ]
     },
     "execution_count": 21,
     "metadata": {},
     "output_type": "execute_result"
    }
   ],
   "source": [
    "computeSCC(gr)"
   ]
  },
  {
   "cell_type": "code",
   "execution_count": 22,
   "metadata": {},
   "outputs": [],
   "source": [
    "kg = {1:[10,2],2:[5],3:[4],4:[5],5:[6],6:[3],7:[8],8:[9],\n",
    "     9:[7,10],10:[11],11:[12],12:[13],13:[11]}"
   ]
  },
  {
   "cell_type": "code",
   "execution_count": 23,
   "metadata": {},
   "outputs": [
    {
     "data": {
      "text/plain": [
       "{6: 6,\n",
       " 3: 6,\n",
       " 4: 6,\n",
       " 5: 6,\n",
       " 2: 2,\n",
       " 13: 13,\n",
       " 11: 13,\n",
       " 12: 13,\n",
       " 10: 10,\n",
       " 9: 9,\n",
       " 7: 9,\n",
       " 8: 9,\n",
       " 1: 1}"
      ]
     },
     "execution_count": 23,
     "metadata": {},
     "output_type": "execute_result"
    }
   ],
   "source": [
    "computeSCC(kg) #example from http://www.kylesauri.com/home/kosarajus-algorithm-in-python-3"
   ]
  }
 ],
 "metadata": {
  "kernelspec": {
   "display_name": "Python 3",
   "language": "python",
   "name": "python3"
  },
  "language_info": {
   "codemirror_mode": {
    "name": "ipython",
    "version": 3
   },
   "file_extension": ".py",
   "mimetype": "text/x-python",
   "name": "python",
   "nbconvert_exporter": "python",
   "pygments_lexer": "ipython3",
   "version": "3.7.4"
  }
 },
 "nbformat": 4,
 "nbformat_minor": 2
}
