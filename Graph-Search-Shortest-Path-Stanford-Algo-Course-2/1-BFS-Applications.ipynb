{
 "cells": [
  {
   "cell_type": "code",
   "execution_count": 28,
   "metadata": {},
   "outputs": [],
   "source": [
    "#directed graph\n",
    "graph = {\n",
    "  'A' : ['B','C'],\n",
    "  'B' : ['D', 'E'],\n",
    "  'C' : ['F'],\n",
    "  'D' : [],\n",
    "  'E' : ['F'],\n",
    "  'F' : []\n",
    "}"
   ]
  },
  {
   "cell_type": "code",
   "execution_count": 29,
   "metadata": {},
   "outputs": [],
   "source": [
    "from collections import deque"
   ]
  },
  {
   "cell_type": "code",
   "execution_count": 30,
   "metadata": {},
   "outputs": [],
   "source": [
    "def BFS(g,start):\n",
    "    \n",
    "    #mark start as explored\n",
    "    explored = set([start])\n",
    "    q = deque()\n",
    "    q.append(start) #q initialized with s\n",
    "    \n",
    "    while q:\n",
    "        print(q)\n",
    "        v = q.popleft() #remove the first node\n",
    "        for node in g[v]: #check all edges \n",
    "            if node not in explored: #if edge not explored\n",
    "                explored.add(node) #add edge to explored\n",
    "                q.append(node) #add node to q\n",
    "    \n",
    "    return explored\n",
    "        "
   ]
  },
  {
   "cell_type": "code",
   "execution_count": 31,
   "metadata": {},
   "outputs": [
    {
     "name": "stdout",
     "output_type": "stream",
     "text": [
      "deque(['A'])\n",
      "deque(['B', 'C'])\n",
      "deque(['C', 'D', 'E'])\n",
      "deque(['D', 'E', 'F'])\n",
      "deque(['E', 'F'])\n",
      "deque(['F'])\n"
     ]
    },
    {
     "data": {
      "text/plain": [
       "{'A', 'B', 'C', 'D', 'E', 'F'}"
      ]
     },
     "execution_count": 31,
     "metadata": {},
     "output_type": "execute_result"
    }
   ],
   "source": [
    "BFS(graph,'A')"
   ]
  },
  {
   "cell_type": "code",
   "execution_count": 32,
   "metadata": {},
   "outputs": [],
   "source": [
    "def BFSwithPath(g,start):\n",
    "    \n",
    "    #mark start as explored\n",
    "    explored = {start:0} #it's a dictionary with path now\n",
    "    q = deque()\n",
    "    q.append(start) #q initialized with s\n",
    "    \n",
    "    while q:\n",
    "        print(q)\n",
    "        v = q.popleft() #remove the first node\n",
    "        for node in g[v]: #check all edges \n",
    "            if node not in explored: #if edge not explored\n",
    "                explored[node] = explored[v] + 1 #add edge to explored\n",
    "                q.append(node) #add node to q\n",
    "    \n",
    "    return explored"
   ]
  },
  {
   "cell_type": "code",
   "execution_count": 33,
   "metadata": {
    "scrolled": true
   },
   "outputs": [
    {
     "name": "stdout",
     "output_type": "stream",
     "text": [
      "deque(['A'])\n",
      "deque(['B', 'C'])\n",
      "deque(['C', 'D', 'E'])\n",
      "deque(['D', 'E', 'F'])\n",
      "deque(['E', 'F'])\n",
      "deque(['F'])\n"
     ]
    },
    {
     "data": {
      "text/plain": [
       "{'A': 0, 'B': 1, 'C': 1, 'D': 2, 'E': 2, 'F': 2}"
      ]
     },
     "execution_count": 33,
     "metadata": {},
     "output_type": "execute_result"
    }
   ],
   "source": [
    "BFSwithPath(graph,'A')"
   ]
  },
  {
   "cell_type": "code",
   "execution_count": 34,
   "metadata": {},
   "outputs": [],
   "source": [
    "def ConnectedComponents(g):\n",
    "    cc = 0\n",
    "    all_nodes = list(g.keys())\n",
    "    explored = set()\n",
    "    for node in all_nodes:\n",
    "        if node not in explored:\n",
    "            e = BFS(g,node)\n",
    "            explored.update(e)\n",
    "            cc += 1\n",
    "    return cc"
   ]
  },
  {
   "cell_type": "code",
   "execution_count": 35,
   "metadata": {},
   "outputs": [
    {
     "name": "stdout",
     "output_type": "stream",
     "text": [
      "deque(['A'])\n",
      "deque(['B', 'C'])\n",
      "deque(['C', 'D', 'E'])\n",
      "deque(['D', 'E', 'F'])\n",
      "deque(['E', 'F'])\n",
      "deque(['F'])\n"
     ]
    },
    {
     "data": {
      "text/plain": [
       "1"
      ]
     },
     "execution_count": 35,
     "metadata": {},
     "output_type": "execute_result"
    }
   ],
   "source": [
    "ConnectedComponents(graph)"
   ]
  },
  {
   "cell_type": "code",
   "execution_count": 36,
   "metadata": {},
   "outputs": [],
   "source": [
    "brokengraph = {1: [3,5,7,9],\n",
    "               2: [4], \n",
    "               3: [1,5],\n",
    "               4: [2],\n",
    "               5: [1,3,7,9],\n",
    "               6: [8,10],\n",
    "               7: [5],\n",
    "               8: [6,10],\n",
    "               9: [5],\n",
    "              10: [6,8]}"
   ]
  },
  {
   "cell_type": "code",
   "execution_count": 37,
   "metadata": {},
   "outputs": [
    {
     "name": "stdout",
     "output_type": "stream",
     "text": [
      "deque([1])\n",
      "deque([3, 5, 7, 9])\n",
      "deque([5, 7, 9])\n",
      "deque([7, 9])\n",
      "deque([9])\n",
      "deque([2])\n",
      "deque([4])\n",
      "deque([6])\n",
      "deque([8, 10])\n",
      "deque([10])\n"
     ]
    },
    {
     "data": {
      "text/plain": [
       "3"
      ]
     },
     "execution_count": 37,
     "metadata": {},
     "output_type": "execute_result"
    }
   ],
   "source": [
    "ConnectedComponents(brokengraph)"
   ]
  },
  {
   "cell_type": "code",
   "execution_count": null,
   "metadata": {},
   "outputs": [],
   "source": []
  }
 ],
 "metadata": {
  "kernelspec": {
   "display_name": "Python 3",
   "language": "python",
   "name": "python3"
  },
  "language_info": {
   "codemirror_mode": {
    "name": "ipython",
    "version": 3
   },
   "file_extension": ".py",
   "mimetype": "text/x-python",
   "name": "python",
   "nbconvert_exporter": "python",
   "pygments_lexer": "ipython3",
   "version": "3.7.4"
  }
 },
 "nbformat": 4,
 "nbformat_minor": 2
}
