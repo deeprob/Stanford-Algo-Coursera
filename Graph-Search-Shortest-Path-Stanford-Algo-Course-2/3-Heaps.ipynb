{
 "cells": [
  {
   "cell_type": "code",
   "execution_count": 32,
   "metadata": {},
   "outputs": [],
   "source": [
    "class Heap:\n",
    "    def __init__(self,L):\n",
    "        '''L is either a single element list or a tupled list\n",
    "        Note: Tuple comparisons work normally, no need to treat them\n",
    "        as a separate case'''\n",
    "        self.heap = []\n",
    "        self.heapify(L)\n",
    "            \n",
    "\n",
    "            \n",
    "            \n",
    "    def __bubble_up_helper(self,idx,parent_idx):\n",
    "        self.heap[idx],self.heap[parent_idx] = self.heap[parent_idx],self.heap[idx]\n",
    "        return \n",
    "    \n",
    "    def _bubble_up(self,idx):\n",
    "        if idx>0:\n",
    "            parent_idx = self.__get_parent_idx(idx)\n",
    "            if self.heap[idx]<=self.heap[parent_idx]:\n",
    "                self.__bubble_up_helper(idx,parent_idx)\n",
    "                return self._bubble_up(parent_idx)\n",
    "                \n",
    "            \n",
    "    \n",
    "    \n",
    "    def __get_parent_idx(self,idx):\n",
    "        if idx%2==0:\n",
    "            parent_idx = int(idx/2) - 1\n",
    "        else:\n",
    "            parent_idx = int(idx//2)\n",
    "        return parent_idx\n",
    "\n",
    "\n",
    "    def insert(self,ele):\n",
    "\n",
    "        self.heap.append(ele)\n",
    "        idx = len(self.heap)-1\n",
    "\n",
    "        self._bubble_up(idx)\n",
    "\n",
    "        return \n",
    "    \n",
    "    def heapify(self,arr):\n",
    "        for ele in arr:\n",
    "            self.insert(ele)\n",
    "        return\n",
    "    \n",
    "    def __bubble_down_helper(self,idx,min_child_idx):\n",
    "        self.heap[idx],self.heap[min_child_idx] = self.heap[min_child_idx],self.heap[idx]\n",
    "        return\n",
    "    \n",
    "    \n",
    "    def _bubble_down(self,idx):\n",
    "        child_idx = self.__get_min_child_idx(self.heap,idx)\n",
    "        if child_idx:\n",
    "\n",
    "            if self.heap[idx]>self.heap[child_idx]:\n",
    "                self.__bubble_down_helper(idx,child_idx)\n",
    "                return self._bubble_down(child_idx)\n",
    "\n",
    "                \n",
    "\n",
    "    def __get_min_child_idx(self,arr,idx):\n",
    "        larr = len(arr)\n",
    "        if larr>(2*idx+2):\n",
    "            if arr[2*idx+1]<arr[2*idx+2]:\n",
    "                return 2*idx+1\n",
    "            else:\n",
    "                return 2*idx+2\n",
    "        elif larr>(2*idx+1):\n",
    "            return 2*idx+1\n",
    "        else:\n",
    "            return\n",
    "\n",
    "\n",
    "    def extract_min(self):\n",
    "        if self.heap:\n",
    "\n",
    "            mini = self.heap[0]\n",
    "\n",
    "            self.heap[0] = self.heap[-1]\n",
    "            del self.heap[-1]\n",
    "\n",
    "            idx = 0\n",
    "            \n",
    "            self._bubble_down(idx)\n",
    "            return mini \n",
    "    \n",
    "    def delete_element(self,idx):\n",
    "        #step 1 replace the element with the last element of the heap\n",
    "        self.heap[idx],self.heap[len(self.heap)-1] = self.heap[len(self.heap)-1],self.heap[idx]\n",
    "        del self.heap[-1]\n",
    "        \n",
    "        \n",
    "        # either bubble up\n",
    "        self._bubble_up(idx)\n",
    "            \n",
    "        # or bubble down\n",
    "        self._bubble_down(idx)\n",
    "                \n",
    "        return"
   ]
  },
  {
   "cell_type": "code",
   "execution_count": 34,
   "metadata": {},
   "outputs": [],
   "source": [
    "myheap = Heap([4,4,8,9,4,12,9,11,13])\n",
    "\n",
    "myheap.insert(7)"
   ]
  },
  {
   "cell_type": "code",
   "execution_count": 35,
   "metadata": {},
   "outputs": [],
   "source": [
    "myheap.insert(10)"
   ]
  },
  {
   "cell_type": "code",
   "execution_count": 37,
   "metadata": {},
   "outputs": [],
   "source": [
    "myheap.insert(5)"
   ]
  },
  {
   "cell_type": "code",
   "execution_count": 40,
   "metadata": {},
   "outputs": [
    {
     "data": {
      "text/plain": [
       "True"
      ]
     },
     "execution_count": 40,
     "metadata": {},
     "output_type": "execute_result"
    }
   ],
   "source": [
    "myheap.heap == [4, 4, 5, 9, 4, 8, 9, 11, 13, 7, 10, 12]"
   ]
  },
  {
   "cell_type": "code",
   "execution_count": 41,
   "metadata": {},
   "outputs": [],
   "source": [
    "myheap = Heap([4,4,8,9,4,12,9,11,13])"
   ]
  },
  {
   "cell_type": "code",
   "execution_count": 42,
   "metadata": {},
   "outputs": [
    {
     "data": {
      "text/plain": [
       "4"
      ]
     },
     "execution_count": 42,
     "metadata": {},
     "output_type": "execute_result"
    }
   ],
   "source": [
    "myheap.extract_min()"
   ]
  },
  {
   "cell_type": "code",
   "execution_count": 43,
   "metadata": {},
   "outputs": [
    {
     "data": {
      "text/plain": [
       "[4, 4, 8, 9, 13, 12, 9, 11]"
      ]
     },
     "execution_count": 43,
     "metadata": {},
     "output_type": "execute_result"
    }
   ],
   "source": [
    "myheap.heap"
   ]
  },
  {
   "cell_type": "code",
   "execution_count": 46,
   "metadata": {},
   "outputs": [],
   "source": [
    "myheap = Heap([4,4,8,9,4,12,9,11,13][::-1])"
   ]
  },
  {
   "cell_type": "code",
   "execution_count": 47,
   "metadata": {},
   "outputs": [
    {
     "data": {
      "text/plain": [
       "[4, 4, 8, 4, 12, 11, 9, 13, 9]"
      ]
     },
     "execution_count": 47,
     "metadata": {},
     "output_type": "execute_result"
    }
   ],
   "source": [
    "myheap.heap"
   ]
  }
 ],
 "metadata": {
  "kernelspec": {
   "display_name": "Python 3",
   "language": "python",
   "name": "python3"
  },
  "language_info": {
   "codemirror_mode": {
    "name": "ipython",
    "version": 3
   },
   "file_extension": ".py",
   "mimetype": "text/x-python",
   "name": "python",
   "nbconvert_exporter": "python",
   "pygments_lexer": "ipython3",
   "version": "3.7.4"
  }
 },
 "nbformat": 4,
 "nbformat_minor": 2
}
